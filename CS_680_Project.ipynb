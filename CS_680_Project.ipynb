{
  "nbformat": 4,
  "nbformat_minor": 0,
  "metadata": {
    "colab": {
      "name": "CS 680 Project.ipynb",
      "provenance": [],
      "collapsed_sections": [],
      "include_colab_link": true
    },
    "kernelspec": {
      "name": "python3",
      "display_name": "Python 3"
    },
    "accelerator": "GPU",
    "widgets": {
      "application/vnd.jupyter.widget-state+json": {
        "d6b757b4b9534fcf951d4f0c1a890ed6": {
          "model_module": "@jupyter-widgets/controls",
          "model_name": "HBoxModel",
          "state": {
            "_view_name": "HBoxView",
            "_dom_classes": [],
            "_model_name": "HBoxModel",
            "_view_module": "@jupyter-widgets/controls",
            "_model_module_version": "1.5.0",
            "_view_count": null,
            "_view_module_version": "1.5.0",
            "box_style": "",
            "layout": "IPY_MODEL_bcd6b6cf0f6d40b49241dbf13c4c3e39",
            "_model_module": "@jupyter-widgets/controls",
            "children": [
              "IPY_MODEL_6cca173055e846788211ffb7545ef815",
              "IPY_MODEL_a4e9e91b3b0e4d7d8527fbe2a80173ca"
            ]
          }
        },
        "bcd6b6cf0f6d40b49241dbf13c4c3e39": {
          "model_module": "@jupyter-widgets/base",
          "model_name": "LayoutModel",
          "state": {
            "_view_name": "LayoutView",
            "grid_template_rows": null,
            "right": null,
            "justify_content": null,
            "_view_module": "@jupyter-widgets/base",
            "overflow": null,
            "_model_module_version": "1.2.0",
            "_view_count": null,
            "flex_flow": null,
            "width": null,
            "min_width": null,
            "border": null,
            "align_items": null,
            "bottom": null,
            "_model_module": "@jupyter-widgets/base",
            "top": null,
            "grid_column": null,
            "overflow_y": null,
            "overflow_x": null,
            "grid_auto_flow": null,
            "grid_area": null,
            "grid_template_columns": null,
            "flex": null,
            "_model_name": "LayoutModel",
            "justify_items": null,
            "grid_row": null,
            "max_height": null,
            "align_content": null,
            "visibility": null,
            "align_self": null,
            "height": null,
            "min_height": null,
            "padding": null,
            "grid_auto_rows": null,
            "grid_gap": null,
            "max_width": null,
            "order": null,
            "_view_module_version": "1.2.0",
            "grid_template_areas": null,
            "object_position": null,
            "object_fit": null,
            "grid_auto_columns": null,
            "margin": null,
            "display": null,
            "left": null
          }
        },
        "6cca173055e846788211ffb7545ef815": {
          "model_module": "@jupyter-widgets/controls",
          "model_name": "FloatProgressModel",
          "state": {
            "_view_name": "ProgressView",
            "style": "IPY_MODEL_940757d9da1944cfa7b15d66c7f6322e",
            "_dom_classes": [],
            "description": "Downloading: 100%",
            "_model_name": "FloatProgressModel",
            "bar_style": "success",
            "max": 231508,
            "_view_module": "@jupyter-widgets/controls",
            "_model_module_version": "1.5.0",
            "value": 231508,
            "_view_count": null,
            "_view_module_version": "1.5.0",
            "orientation": "horizontal",
            "min": 0,
            "description_tooltip": null,
            "_model_module": "@jupyter-widgets/controls",
            "layout": "IPY_MODEL_8c70e1d1ad2c4275b77df905b4a3017d"
          }
        },
        "a4e9e91b3b0e4d7d8527fbe2a80173ca": {
          "model_module": "@jupyter-widgets/controls",
          "model_name": "HTMLModel",
          "state": {
            "_view_name": "HTMLView",
            "style": "IPY_MODEL_9a191439266142bab47a8b7c2567760c",
            "_dom_classes": [],
            "description": "",
            "_model_name": "HTMLModel",
            "placeholder": "​",
            "_view_module": "@jupyter-widgets/controls",
            "_model_module_version": "1.5.0",
            "value": " 232k/232k [00:00&lt;00:00, 1.34MB/s]",
            "_view_count": null,
            "_view_module_version": "1.5.0",
            "description_tooltip": null,
            "_model_module": "@jupyter-widgets/controls",
            "layout": "IPY_MODEL_ac0bd5bf663044a0b97e04691d67d1c3"
          }
        },
        "940757d9da1944cfa7b15d66c7f6322e": {
          "model_module": "@jupyter-widgets/controls",
          "model_name": "ProgressStyleModel",
          "state": {
            "_view_name": "StyleView",
            "_model_name": "ProgressStyleModel",
            "description_width": "initial",
            "_view_module": "@jupyter-widgets/base",
            "_model_module_version": "1.5.0",
            "_view_count": null,
            "_view_module_version": "1.2.0",
            "bar_color": null,
            "_model_module": "@jupyter-widgets/controls"
          }
        },
        "8c70e1d1ad2c4275b77df905b4a3017d": {
          "model_module": "@jupyter-widgets/base",
          "model_name": "LayoutModel",
          "state": {
            "_view_name": "LayoutView",
            "grid_template_rows": null,
            "right": null,
            "justify_content": null,
            "_view_module": "@jupyter-widgets/base",
            "overflow": null,
            "_model_module_version": "1.2.0",
            "_view_count": null,
            "flex_flow": null,
            "width": null,
            "min_width": null,
            "border": null,
            "align_items": null,
            "bottom": null,
            "_model_module": "@jupyter-widgets/base",
            "top": null,
            "grid_column": null,
            "overflow_y": null,
            "overflow_x": null,
            "grid_auto_flow": null,
            "grid_area": null,
            "grid_template_columns": null,
            "flex": null,
            "_model_name": "LayoutModel",
            "justify_items": null,
            "grid_row": null,
            "max_height": null,
            "align_content": null,
            "visibility": null,
            "align_self": null,
            "height": null,
            "min_height": null,
            "padding": null,
            "grid_auto_rows": null,
            "grid_gap": null,
            "max_width": null,
            "order": null,
            "_view_module_version": "1.2.0",
            "grid_template_areas": null,
            "object_position": null,
            "object_fit": null,
            "grid_auto_columns": null,
            "margin": null,
            "display": null,
            "left": null
          }
        },
        "9a191439266142bab47a8b7c2567760c": {
          "model_module": "@jupyter-widgets/controls",
          "model_name": "DescriptionStyleModel",
          "state": {
            "_view_name": "StyleView",
            "_model_name": "DescriptionStyleModel",
            "description_width": "",
            "_view_module": "@jupyter-widgets/base",
            "_model_module_version": "1.5.0",
            "_view_count": null,
            "_view_module_version": "1.2.0",
            "_model_module": "@jupyter-widgets/controls"
          }
        },
        "ac0bd5bf663044a0b97e04691d67d1c3": {
          "model_module": "@jupyter-widgets/base",
          "model_name": "LayoutModel",
          "state": {
            "_view_name": "LayoutView",
            "grid_template_rows": null,
            "right": null,
            "justify_content": null,
            "_view_module": "@jupyter-widgets/base",
            "overflow": null,
            "_model_module_version": "1.2.0",
            "_view_count": null,
            "flex_flow": null,
            "width": null,
            "min_width": null,
            "border": null,
            "align_items": null,
            "bottom": null,
            "_model_module": "@jupyter-widgets/base",
            "top": null,
            "grid_column": null,
            "overflow_y": null,
            "overflow_x": null,
            "grid_auto_flow": null,
            "grid_area": null,
            "grid_template_columns": null,
            "flex": null,
            "_model_name": "LayoutModel",
            "justify_items": null,
            "grid_row": null,
            "max_height": null,
            "align_content": null,
            "visibility": null,
            "align_self": null,
            "height": null,
            "min_height": null,
            "padding": null,
            "grid_auto_rows": null,
            "grid_gap": null,
            "max_width": null,
            "order": null,
            "_view_module_version": "1.2.0",
            "grid_template_areas": null,
            "object_position": null,
            "object_fit": null,
            "grid_auto_columns": null,
            "margin": null,
            "display": null,
            "left": null
          }
        },
        "2e6f0e5578d94f5b923424c0751a7362": {
          "model_module": "@jupyter-widgets/controls",
          "model_name": "HBoxModel",
          "state": {
            "_view_name": "HBoxView",
            "_dom_classes": [],
            "_model_name": "HBoxModel",
            "_view_module": "@jupyter-widgets/controls",
            "_model_module_version": "1.5.0",
            "_view_count": null,
            "_view_module_version": "1.5.0",
            "box_style": "",
            "layout": "IPY_MODEL_313f56e0f6c0476da27651be3af07481",
            "_model_module": "@jupyter-widgets/controls",
            "children": [
              "IPY_MODEL_d96a928cc7ec48c682d337a511b7f82e",
              "IPY_MODEL_8ba6d5dbfc8d401a8d755a6d76e34b43"
            ]
          }
        },
        "313f56e0f6c0476da27651be3af07481": {
          "model_module": "@jupyter-widgets/base",
          "model_name": "LayoutModel",
          "state": {
            "_view_name": "LayoutView",
            "grid_template_rows": null,
            "right": null,
            "justify_content": null,
            "_view_module": "@jupyter-widgets/base",
            "overflow": null,
            "_model_module_version": "1.2.0",
            "_view_count": null,
            "flex_flow": null,
            "width": null,
            "min_width": null,
            "border": null,
            "align_items": null,
            "bottom": null,
            "_model_module": "@jupyter-widgets/base",
            "top": null,
            "grid_column": null,
            "overflow_y": null,
            "overflow_x": null,
            "grid_auto_flow": null,
            "grid_area": null,
            "grid_template_columns": null,
            "flex": null,
            "_model_name": "LayoutModel",
            "justify_items": null,
            "grid_row": null,
            "max_height": null,
            "align_content": null,
            "visibility": null,
            "align_self": null,
            "height": null,
            "min_height": null,
            "padding": null,
            "grid_auto_rows": null,
            "grid_gap": null,
            "max_width": null,
            "order": null,
            "_view_module_version": "1.2.0",
            "grid_template_areas": null,
            "object_position": null,
            "object_fit": null,
            "grid_auto_columns": null,
            "margin": null,
            "display": null,
            "left": null
          }
        },
        "d96a928cc7ec48c682d337a511b7f82e": {
          "model_module": "@jupyter-widgets/controls",
          "model_name": "FloatProgressModel",
          "state": {
            "_view_name": "ProgressView",
            "style": "IPY_MODEL_716e3525316e40ca9286f63ef459038a",
            "_dom_classes": [],
            "description": "Downloading: 100%",
            "_model_name": "FloatProgressModel",
            "bar_style": "success",
            "max": 433,
            "_view_module": "@jupyter-widgets/controls",
            "_model_module_version": "1.5.0",
            "value": 433,
            "_view_count": null,
            "_view_module_version": "1.5.0",
            "orientation": "horizontal",
            "min": 0,
            "description_tooltip": null,
            "_model_module": "@jupyter-widgets/controls",
            "layout": "IPY_MODEL_ba31b9b30c624a868205da7e024e47f1"
          }
        },
        "8ba6d5dbfc8d401a8d755a6d76e34b43": {
          "model_module": "@jupyter-widgets/controls",
          "model_name": "HTMLModel",
          "state": {
            "_view_name": "HTMLView",
            "style": "IPY_MODEL_5ec44282f9e4492289aa403de7173c9a",
            "_dom_classes": [],
            "description": "",
            "_model_name": "HTMLModel",
            "placeholder": "​",
            "_view_module": "@jupyter-widgets/controls",
            "_model_module_version": "1.5.0",
            "value": " 433/433 [00:00&lt;00:00, 2.41kB/s]",
            "_view_count": null,
            "_view_module_version": "1.5.0",
            "description_tooltip": null,
            "_model_module": "@jupyter-widgets/controls",
            "layout": "IPY_MODEL_390f5d4455ba47f69842572b0f52f35e"
          }
        },
        "716e3525316e40ca9286f63ef459038a": {
          "model_module": "@jupyter-widgets/controls",
          "model_name": "ProgressStyleModel",
          "state": {
            "_view_name": "StyleView",
            "_model_name": "ProgressStyleModel",
            "description_width": "initial",
            "_view_module": "@jupyter-widgets/base",
            "_model_module_version": "1.5.0",
            "_view_count": null,
            "_view_module_version": "1.2.0",
            "bar_color": null,
            "_model_module": "@jupyter-widgets/controls"
          }
        },
        "ba31b9b30c624a868205da7e024e47f1": {
          "model_module": "@jupyter-widgets/base",
          "model_name": "LayoutModel",
          "state": {
            "_view_name": "LayoutView",
            "grid_template_rows": null,
            "right": null,
            "justify_content": null,
            "_view_module": "@jupyter-widgets/base",
            "overflow": null,
            "_model_module_version": "1.2.0",
            "_view_count": null,
            "flex_flow": null,
            "width": null,
            "min_width": null,
            "border": null,
            "align_items": null,
            "bottom": null,
            "_model_module": "@jupyter-widgets/base",
            "top": null,
            "grid_column": null,
            "overflow_y": null,
            "overflow_x": null,
            "grid_auto_flow": null,
            "grid_area": null,
            "grid_template_columns": null,
            "flex": null,
            "_model_name": "LayoutModel",
            "justify_items": null,
            "grid_row": null,
            "max_height": null,
            "align_content": null,
            "visibility": null,
            "align_self": null,
            "height": null,
            "min_height": null,
            "padding": null,
            "grid_auto_rows": null,
            "grid_gap": null,
            "max_width": null,
            "order": null,
            "_view_module_version": "1.2.0",
            "grid_template_areas": null,
            "object_position": null,
            "object_fit": null,
            "grid_auto_columns": null,
            "margin": null,
            "display": null,
            "left": null
          }
        },
        "5ec44282f9e4492289aa403de7173c9a": {
          "model_module": "@jupyter-widgets/controls",
          "model_name": "DescriptionStyleModel",
          "state": {
            "_view_name": "StyleView",
            "_model_name": "DescriptionStyleModel",
            "description_width": "",
            "_view_module": "@jupyter-widgets/base",
            "_model_module_version": "1.5.0",
            "_view_count": null,
            "_view_module_version": "1.2.0",
            "_model_module": "@jupyter-widgets/controls"
          }
        },
        "390f5d4455ba47f69842572b0f52f35e": {
          "model_module": "@jupyter-widgets/base",
          "model_name": "LayoutModel",
          "state": {
            "_view_name": "LayoutView",
            "grid_template_rows": null,
            "right": null,
            "justify_content": null,
            "_view_module": "@jupyter-widgets/base",
            "overflow": null,
            "_model_module_version": "1.2.0",
            "_view_count": null,
            "flex_flow": null,
            "width": null,
            "min_width": null,
            "border": null,
            "align_items": null,
            "bottom": null,
            "_model_module": "@jupyter-widgets/base",
            "top": null,
            "grid_column": null,
            "overflow_y": null,
            "overflow_x": null,
            "grid_auto_flow": null,
            "grid_area": null,
            "grid_template_columns": null,
            "flex": null,
            "_model_name": "LayoutModel",
            "justify_items": null,
            "grid_row": null,
            "max_height": null,
            "align_content": null,
            "visibility": null,
            "align_self": null,
            "height": null,
            "min_height": null,
            "padding": null,
            "grid_auto_rows": null,
            "grid_gap": null,
            "max_width": null,
            "order": null,
            "_view_module_version": "1.2.0",
            "grid_template_areas": null,
            "object_position": null,
            "object_fit": null,
            "grid_auto_columns": null,
            "margin": null,
            "display": null,
            "left": null
          }
        },
        "bc814e1da43a4ca0a68bd316944fdd71": {
          "model_module": "@jupyter-widgets/controls",
          "model_name": "HBoxModel",
          "state": {
            "_view_name": "HBoxView",
            "_dom_classes": [],
            "_model_name": "HBoxModel",
            "_view_module": "@jupyter-widgets/controls",
            "_model_module_version": "1.5.0",
            "_view_count": null,
            "_view_module_version": "1.5.0",
            "box_style": "",
            "layout": "IPY_MODEL_9739d28577b54bcfbf90e8af749f19d4",
            "_model_module": "@jupyter-widgets/controls",
            "children": [
              "IPY_MODEL_9bd6619c6b2648d68a3c7a8cca8e4b69",
              "IPY_MODEL_7e6ab92f5ea9472cb73b8b30beb383fd"
            ]
          }
        },
        "9739d28577b54bcfbf90e8af749f19d4": {
          "model_module": "@jupyter-widgets/base",
          "model_name": "LayoutModel",
          "state": {
            "_view_name": "LayoutView",
            "grid_template_rows": null,
            "right": null,
            "justify_content": null,
            "_view_module": "@jupyter-widgets/base",
            "overflow": null,
            "_model_module_version": "1.2.0",
            "_view_count": null,
            "flex_flow": null,
            "width": null,
            "min_width": null,
            "border": null,
            "align_items": null,
            "bottom": null,
            "_model_module": "@jupyter-widgets/base",
            "top": null,
            "grid_column": null,
            "overflow_y": null,
            "overflow_x": null,
            "grid_auto_flow": null,
            "grid_area": null,
            "grid_template_columns": null,
            "flex": null,
            "_model_name": "LayoutModel",
            "justify_items": null,
            "grid_row": null,
            "max_height": null,
            "align_content": null,
            "visibility": null,
            "align_self": null,
            "height": null,
            "min_height": null,
            "padding": null,
            "grid_auto_rows": null,
            "grid_gap": null,
            "max_width": null,
            "order": null,
            "_view_module_version": "1.2.0",
            "grid_template_areas": null,
            "object_position": null,
            "object_fit": null,
            "grid_auto_columns": null,
            "margin": null,
            "display": null,
            "left": null
          }
        },
        "9bd6619c6b2648d68a3c7a8cca8e4b69": {
          "model_module": "@jupyter-widgets/controls",
          "model_name": "FloatProgressModel",
          "state": {
            "_view_name": "ProgressView",
            "style": "IPY_MODEL_4b3b2b62674f4e11859d7ef37aaf3511",
            "_dom_classes": [],
            "description": "Downloading: 100%",
            "_model_name": "FloatProgressModel",
            "bar_style": "success",
            "max": 440473133,
            "_view_module": "@jupyter-widgets/controls",
            "_model_module_version": "1.5.0",
            "value": 440473133,
            "_view_count": null,
            "_view_module_version": "1.5.0",
            "orientation": "horizontal",
            "min": 0,
            "description_tooltip": null,
            "_model_module": "@jupyter-widgets/controls",
            "layout": "IPY_MODEL_06788bb50f3d47e0b93607612ffa51c6"
          }
        },
        "7e6ab92f5ea9472cb73b8b30beb383fd": {
          "model_module": "@jupyter-widgets/controls",
          "model_name": "HTMLModel",
          "state": {
            "_view_name": "HTMLView",
            "style": "IPY_MODEL_769513f5fc444fbdb58cbe91ec7f04fd",
            "_dom_classes": [],
            "description": "",
            "_model_name": "HTMLModel",
            "placeholder": "​",
            "_view_module": "@jupyter-widgets/controls",
            "_model_module_version": "1.5.0",
            "value": " 440M/440M [00:21&lt;00:00, 20.3MB/s]",
            "_view_count": null,
            "_view_module_version": "1.5.0",
            "description_tooltip": null,
            "_model_module": "@jupyter-widgets/controls",
            "layout": "IPY_MODEL_1be243ca58e047369ad0daf6d42024ed"
          }
        },
        "4b3b2b62674f4e11859d7ef37aaf3511": {
          "model_module": "@jupyter-widgets/controls",
          "model_name": "ProgressStyleModel",
          "state": {
            "_view_name": "StyleView",
            "_model_name": "ProgressStyleModel",
            "description_width": "initial",
            "_view_module": "@jupyter-widgets/base",
            "_model_module_version": "1.5.0",
            "_view_count": null,
            "_view_module_version": "1.2.0",
            "bar_color": null,
            "_model_module": "@jupyter-widgets/controls"
          }
        },
        "06788bb50f3d47e0b93607612ffa51c6": {
          "model_module": "@jupyter-widgets/base",
          "model_name": "LayoutModel",
          "state": {
            "_view_name": "LayoutView",
            "grid_template_rows": null,
            "right": null,
            "justify_content": null,
            "_view_module": "@jupyter-widgets/base",
            "overflow": null,
            "_model_module_version": "1.2.0",
            "_view_count": null,
            "flex_flow": null,
            "width": null,
            "min_width": null,
            "border": null,
            "align_items": null,
            "bottom": null,
            "_model_module": "@jupyter-widgets/base",
            "top": null,
            "grid_column": null,
            "overflow_y": null,
            "overflow_x": null,
            "grid_auto_flow": null,
            "grid_area": null,
            "grid_template_columns": null,
            "flex": null,
            "_model_name": "LayoutModel",
            "justify_items": null,
            "grid_row": null,
            "max_height": null,
            "align_content": null,
            "visibility": null,
            "align_self": null,
            "height": null,
            "min_height": null,
            "padding": null,
            "grid_auto_rows": null,
            "grid_gap": null,
            "max_width": null,
            "order": null,
            "_view_module_version": "1.2.0",
            "grid_template_areas": null,
            "object_position": null,
            "object_fit": null,
            "grid_auto_columns": null,
            "margin": null,
            "display": null,
            "left": null
          }
        },
        "769513f5fc444fbdb58cbe91ec7f04fd": {
          "model_module": "@jupyter-widgets/controls",
          "model_name": "DescriptionStyleModel",
          "state": {
            "_view_name": "StyleView",
            "_model_name": "DescriptionStyleModel",
            "description_width": "",
            "_view_module": "@jupyter-widgets/base",
            "_model_module_version": "1.5.0",
            "_view_count": null,
            "_view_module_version": "1.2.0",
            "_model_module": "@jupyter-widgets/controls"
          }
        },
        "1be243ca58e047369ad0daf6d42024ed": {
          "model_module": "@jupyter-widgets/base",
          "model_name": "LayoutModel",
          "state": {
            "_view_name": "LayoutView",
            "grid_template_rows": null,
            "right": null,
            "justify_content": null,
            "_view_module": "@jupyter-widgets/base",
            "overflow": null,
            "_model_module_version": "1.2.0",
            "_view_count": null,
            "flex_flow": null,
            "width": null,
            "min_width": null,
            "border": null,
            "align_items": null,
            "bottom": null,
            "_model_module": "@jupyter-widgets/base",
            "top": null,
            "grid_column": null,
            "overflow_y": null,
            "overflow_x": null,
            "grid_auto_flow": null,
            "grid_area": null,
            "grid_template_columns": null,
            "flex": null,
            "_model_name": "LayoutModel",
            "justify_items": null,
            "grid_row": null,
            "max_height": null,
            "align_content": null,
            "visibility": null,
            "align_self": null,
            "height": null,
            "min_height": null,
            "padding": null,
            "grid_auto_rows": null,
            "grid_gap": null,
            "max_width": null,
            "order": null,
            "_view_module_version": "1.2.0",
            "grid_template_areas": null,
            "object_position": null,
            "object_fit": null,
            "grid_auto_columns": null,
            "margin": null,
            "display": null,
            "left": null
          }
        }
      }
    }
  },
  "cells": [
    {
      "cell_type": "markdown",
      "metadata": {
        "id": "view-in-github",
        "colab_type": "text"
      },
      "source": [
        "<a href=\"https://colab.research.google.com/github/AndrewCDownie/SubmodularDataSelection/blob/master/CS_680_Project.ipynb\" target=\"_parent\"><img src=\"https://colab.research.google.com/assets/colab-badge.svg\" alt=\"Open In Colab\"/></a>"
      ]
    },
    {
      "cell_type": "markdown",
      "metadata": {
        "id": "EUuXXxCUjaFh",
        "colab_type": "text"
      },
      "source": [
        "**Fine-tuning BERT via Submodular Maxmization**\n",
        "\n",
        "Author: Andrew Downie\n",
        "\n",
        "Email: acdownie@uwaterloo.ca\n",
        "\n",
        "This is the notebook used to implement the Code for my CS 680 Project"
      ]
    },
    {
      "cell_type": "markdown",
      "metadata": {
        "id": "Ex1pDJRtHnXn",
        "colab_type": "text"
      },
      "source": [
        "**Initialization**"
      ]
    },
    {
      "cell_type": "code",
      "metadata": {
        "id": "Sc-NsejDMIo5",
        "colab_type": "code",
        "colab": {
          "base_uri": "https://localhost:8080/",
          "height": 717
        },
        "outputId": "7208dc48-5f64-4fe2-e631-92b5ad2dc96e"
      },
      "source": [
        "!pip install transformers\n",
        "import numpy as np\n",
        "import pandas as pd\n",
        "import pprint\n",
        "pp = pprint.PrettyPrinter()\n",
        "import torch\n",
        "from torch.utils.data import Dataset\n",
        "from torch.utils.data import DataLoader\n",
        "from transformers import BertTokenizer\n",
        "import time\n",
        "import torch\n",
        "import random\n",
        "from transformers import BertModel, BertConfig,BertForMultipleChoice\n",
        "import torch\n",
        "cpu = torch.device(\"cpu\")\n",
        "\n",
        "if torch.cuda.is_available():\n",
        "  print(\"GPU avalible\")\n",
        "  device = torch.device(\"cuda\")\n",
        "else:\n",
        "  device = torch.device(\"cpu\")\n",
        "  print(\"Using CPU\")\n",
        "torch.cuda.empty_cache()\n",
        "from google.colab import drive\n",
        "drive.mount('/content/drive')"
      ],
      "execution_count": null,
      "outputs": [
        {
          "output_type": "stream",
          "text": [
            "Collecting transformers\n",
            "\u001b[?25l  Downloading https://files.pythonhosted.org/packages/27/3c/91ed8f5c4e7ef3227b4119200fc0ed4b4fd965b1f0172021c25701087825/transformers-3.0.2-py3-none-any.whl (769kB)\n",
            "\u001b[K     |████████████████████████████████| 778kB 3.5MB/s \n",
            "\u001b[?25hRequirement already satisfied: filelock in /usr/local/lib/python3.6/dist-packages (from transformers) (3.0.12)\n",
            "Requirement already satisfied: packaging in /usr/local/lib/python3.6/dist-packages (from transformers) (20.4)\n",
            "Requirement already satisfied: numpy in /usr/local/lib/python3.6/dist-packages (from transformers) (1.18.5)\n",
            "Requirement already satisfied: regex!=2019.12.17 in /usr/local/lib/python3.6/dist-packages (from transformers) (2019.12.20)\n",
            "Collecting sentencepiece!=0.1.92\n",
            "\u001b[?25l  Downloading https://files.pythonhosted.org/packages/d4/a4/d0a884c4300004a78cca907a6ff9a5e9fe4f090f5d95ab341c53d28cbc58/sentencepiece-0.1.91-cp36-cp36m-manylinux1_x86_64.whl (1.1MB)\n",
            "\u001b[K     |████████████████████████████████| 1.1MB 15.2MB/s \n",
            "\u001b[?25hRequirement already satisfied: tqdm>=4.27 in /usr/local/lib/python3.6/dist-packages (from transformers) (4.41.1)\n",
            "Collecting sacremoses\n",
            "\u001b[?25l  Downloading https://files.pythonhosted.org/packages/7d/34/09d19aff26edcc8eb2a01bed8e98f13a1537005d31e95233fd48216eed10/sacremoses-0.0.43.tar.gz (883kB)\n",
            "\u001b[K     |████████████████████████████████| 890kB 19.8MB/s \n",
            "\u001b[?25hRequirement already satisfied: dataclasses; python_version < \"3.7\" in /usr/local/lib/python3.6/dist-packages (from transformers) (0.7)\n",
            "Requirement already satisfied: requests in /usr/local/lib/python3.6/dist-packages (from transformers) (2.23.0)\n",
            "Collecting tokenizers==0.8.1.rc1\n",
            "\u001b[?25l  Downloading https://files.pythonhosted.org/packages/40/d0/30d5f8d221a0ed981a186c8eb986ce1c94e3a6e87f994eae9f4aa5250217/tokenizers-0.8.1rc1-cp36-cp36m-manylinux1_x86_64.whl (3.0MB)\n",
            "\u001b[K     |████████████████████████████████| 3.0MB 30.4MB/s \n",
            "\u001b[?25hRequirement already satisfied: six in /usr/local/lib/python3.6/dist-packages (from packaging->transformers) (1.15.0)\n",
            "Requirement already satisfied: pyparsing>=2.0.2 in /usr/local/lib/python3.6/dist-packages (from packaging->transformers) (2.4.7)\n",
            "Requirement already satisfied: click in /usr/local/lib/python3.6/dist-packages (from sacremoses->transformers) (7.1.2)\n",
            "Requirement already satisfied: joblib in /usr/local/lib/python3.6/dist-packages (from sacremoses->transformers) (0.16.0)\n",
            "Requirement already satisfied: urllib3!=1.25.0,!=1.25.1,<1.26,>=1.21.1 in /usr/local/lib/python3.6/dist-packages (from requests->transformers) (1.24.3)\n",
            "Requirement already satisfied: certifi>=2017.4.17 in /usr/local/lib/python3.6/dist-packages (from requests->transformers) (2020.6.20)\n",
            "Requirement already satisfied: idna<3,>=2.5 in /usr/local/lib/python3.6/dist-packages (from requests->transformers) (2.10)\n",
            "Requirement already satisfied: chardet<4,>=3.0.2 in /usr/local/lib/python3.6/dist-packages (from requests->transformers) (3.0.4)\n",
            "Building wheels for collected packages: sacremoses\n",
            "  Building wheel for sacremoses (setup.py) ... \u001b[?25l\u001b[?25hdone\n",
            "  Created wheel for sacremoses: filename=sacremoses-0.0.43-cp36-none-any.whl size=893260 sha256=6afe144820aa668f0a4eb96f28a688196843dd6a888b8097df813603ef4cc53e\n",
            "  Stored in directory: /root/.cache/pip/wheels/29/3c/fd/7ce5c3f0666dab31a50123635e6fb5e19ceb42ce38d4e58f45\n",
            "Successfully built sacremoses\n",
            "Installing collected packages: sentencepiece, sacremoses, tokenizers, transformers\n",
            "Successfully installed sacremoses-0.0.43 sentencepiece-0.1.91 tokenizers-0.8.1rc1 transformers-3.0.2\n",
            "GPU avalible\n",
            "Go to this URL in a browser: https://accounts.google.com/o/oauth2/auth?client_id=947318989803-6bn6qk8qdgf4n4g3pfee6491hc0brc4i.apps.googleusercontent.com&redirect_uri=urn%3aietf%3awg%3aoauth%3a2.0%3aoob&response_type=code&scope=email%20https%3a%2f%2fwww.googleapis.com%2fauth%2fdocs.test%20https%3a%2f%2fwww.googleapis.com%2fauth%2fdrive%20https%3a%2f%2fwww.googleapis.com%2fauth%2fdrive.photos.readonly%20https%3a%2f%2fwww.googleapis.com%2fauth%2fpeopleapi.readonly\n",
            "\n",
            "Enter your authorization code:\n",
            "··········\n",
            "Mounted at /content/drive\n"
          ],
          "name": "stdout"
        }
      ]
    },
    {
      "cell_type": "code",
      "metadata": {
        "id": "aeTDRPvaqINo",
        "colab_type": "code",
        "colab": {}
      },
      "source": [
        "class cloze_data_set(Dataset):\n",
        "  def __init__(self,file_path,indices = None):\n",
        "    #open the file\n",
        "    cloze_test_data = pd.read_csv(file_path)\n",
        "    tokenizer = BertTokenizer.from_pretrained('bert-base-uncased')\n",
        "    #column names\n",
        "    sentence_cols = [\"InputSentence1\",\"InputSentence2\",\"InputSentence3\",\"InputSentence4\"]\n",
        "    endings_cols = [\"RandomFifthSentenceQuiz1\",\"RandomFifthSentenceQuiz2\"]\n",
        "    answer_col = \"AnswerRightEnding\"\n",
        "\n",
        "    #Initlaize data\n",
        "    self.stories = []\n",
        "    self.endings = []\n",
        "    self.correct_endings = []\n",
        "    self.tokenizer = BertTokenizer.from_pretrained(\"bert-base-uncased\",do_lower_case = True)\n",
        "    self.input_data = []\n",
        "    self.labels = []\n",
        "    self.story_encodings = []\n",
        "    #iterate through rows and get the data \n",
        "    for i,row in cloze_test_data.iterrows():\n",
        "      story = \"\"\n",
        "      for col in sentence_cols:\n",
        "        story += \" \"+row[col]\n",
        "      if indices is not None and i not in indices:\n",
        "        continue\n",
        "      self.endings.append([row[endings_cols[0]],row[endings_cols[1]]])\n",
        "      self.stories.append(story)\n",
        "      self.correct_endings.append(int(row[answer_col])-1)\n",
        "\n",
        "    #convert the data points to input acceptable data using tokenizer\n",
        "\n",
        "    for i in range(len(self.stories)):#(len(self.stories)):\n",
        "      data_point = [[self.stories[i],self.endings[i][0]],[self.stories[i],self.endings[i][1]]]\n",
        "      label = torch.LongTensor([self.correct_endings[i]])\n",
        "      encoding = self.tokenizer.batch_encode_plus(data_point,return_tensors=\"pt\",pad_to_max_length=True,max_length = 128,truncation=True)\n",
        "      data = {k: v.unsqueeze(0) for k,v in encoding.items()}\n",
        "      self.input_data.append(data)\n",
        "      self.labels.append(label)\n",
        "      story_encoding = self.tokenizer.batch_encode_plus([self.stories[i]],return_tensors=\"pt\",pad_to_max_length=True,max_length = 128,truncation=True)\n",
        "      data = {k: v.unsqueeze(0) for k,v in story_encoding.items()}\n",
        "      self.story_encodings.append(data)\n",
        "\n",
        "  #returns the length when len function is used\n",
        "  def __len__(self):\n",
        "    return len(self.input_data)\n",
        "    \n",
        "\n",
        "  #retrives item if [] opertations are used\n",
        "  def __getitem__(self,idx):\n",
        "    return{\"input_data\":self.input_data[idx],\"label\":self.labels[idx],\"story\":self.stories[idx],'story_encoding':self.story_encodings[idx],\"endings\":self.endings[idx]}\n",
        "\n",
        "  #function to combine data points into batches when using data loader\n",
        "  def collate_function(self,batch):\n",
        "    input_id_tensors = []\n",
        "    input_ids_sets = []\n",
        "    token_type_ids_sets = []\n",
        "    attention_mask_sets = []\n",
        "    labels = []\n",
        "    for element in batch:\n",
        "      input_ids_sets.append(element['input_data']['input_ids'][0])\n",
        "      token_type_ids_sets.append(element['input_data']['token_type_ids'][0])\n",
        "      attention_mask_sets.append(element['input_data']['attention_mask'][0])\n",
        "      labels.append(element['label'][0].item())\n",
        "      \n",
        "    return {\"input_data\":{'input_ids':torch.stack(input_ids_sets),\"token_type_ids\":torch.stack(token_type_ids_sets),\"attention_mask\":torch.stack(attention_mask_sets)},'labels':torch.LongTensor(labels)}\n",
        "  \n",
        "  #combine the story encodings for batching to find the similarity vectors\n",
        "  def collate_function_story_encoding(self,batch):\n",
        "    input_id_tensors = []\n",
        "    input_ids_sets = []\n",
        "    token_type_ids_sets = []\n",
        "    attention_mask_sets = []\n",
        "    labels = []\n",
        "    for element in batch:\n",
        "      #print(element['story_encoding']['input_ids'][0][0].size())\n",
        "      input_ids_sets.append(element['story_encoding']['input_ids'][0][0])\n",
        "      token_type_ids_sets.append(element['story_encoding']['token_type_ids'][0][0])\n",
        "      attention_mask_sets.append(element['story_encoding']['attention_mask'][0][0])\n",
        "      labels.append(element['label'][0].item())\n",
        "      \n",
        "    return {\"input_data\":{'input_ids':torch.stack(input_ids_sets),\"token_type_ids\":torch.stack(token_type_ids_sets),\"attention_mask\":torch.stack(attention_mask_sets)},'labels':torch.LongTensor(labels)}\n",
        "\n",
        "    #for input_data in \n"
      ],
      "execution_count": null,
      "outputs": []
    },
    {
      "cell_type": "markdown",
      "metadata": {
        "id": "cEPXLAbNInMV",
        "colab_type": "text"
      },
      "source": [
        "**Training Functions**"
      ]
    },
    {
      "cell_type": "code",
      "metadata": {
        "id": "ztVNtzMMBJGP",
        "colab_type": "code",
        "colab": {}
      },
      "source": [
        "from transformers import AdamW\n",
        "from transformers import get_linear_schedule_with_warmup\n",
        "\n",
        "def get_pred(logits):\n",
        "  np_logits = logits.cpu().detach().numpy()\n",
        "  pred = np.argmax(np_logits)\n",
        "  return pred\n",
        "\n",
        "def run_test(model,test_set,device,cpu):\n",
        "  #given model, test set and device run the test on the test_set and report accuracy and total loss\n",
        "  correct = 0\n",
        "  total_complete = 0\n",
        "  total_loss = 0\n",
        "  model.eval()\n",
        "  #loop through batches and calculate the number of correct predictions\n",
        "  for i,batch in enumerate(test_set):\n",
        "\n",
        "    #send the data to the GPU\n",
        "    input_ids = batch['input_data']['input_ids'].to(device)\n",
        "    token_type_ids = batch['input_data']['token_type_ids'].to(device)\n",
        "    attention_mask = batch['input_data']['attention_mask'].to(device)\n",
        "    labels= batch['labels'].to(device)\n",
        "\n",
        "    #compute Prediction\n",
        "    with torch.no_grad():\n",
        "      (loss,logits) = model(input_ids = input_ids,token_type_ids = token_type_ids,attention_mask = attention_mask, labels= labels)\n",
        "    total_loss += loss.item()\n",
        "    for i,logit in enumerate(logits):\n",
        "      prediction = get_pred(logit)\n",
        "      total_complete +=1\n",
        "      if prediction == labels[i]:\n",
        "        correct +=1\n",
        "\n",
        "    #remove data from GPU\n",
        "    input_ids.cpu()\n",
        "    token_type_ids.cpu()\n",
        "    attention_mask.cpu()\n",
        "    labels= batch['labels'].cpu()\n",
        "  return (1.0*correct/total_complete,total_loss)\n",
        "\n",
        "def train_model(model,data_set,test_set,device,cpu,epochs):\n",
        "  #initalize optimizer and schedualer\n",
        "  tic = time.perf_counter()\n",
        "  optimizer = AdamW(model.parameters(),lr = 2e-5, eps = 1e-8)\n",
        "  total_steps = len(data_set) * epochs\n",
        "  scheduler = get_linear_schedule_with_warmup(optimizer, \n",
        "                                              num_warmup_steps = 0, # Default value in run_glue.py\n",
        "                                              num_training_steps = total_steps)\n",
        "  accuracies = []\n",
        "  #loop through epochs defined\n",
        "  for epoch in range(epochs):\n",
        "    total_loss = 0\n",
        "    model.train()\n",
        "\n",
        "    #loop through batches of data\n",
        "    for i,batch in enumerate(data_set):\n",
        "\n",
        "      #write to device\n",
        "      input_ids = batch['input_data']['input_ids'].to(device)\n",
        "      token_type_ids = batch['input_data']['token_type_ids'].to(device)\n",
        "      attention_mask = batch['input_data']['attention_mask'].to(device)\n",
        "      labels= batch['labels'].to(device)\n",
        "      \n",
        "      #calculate losses\n",
        "      (loss,logits) = model(input_ids = input_ids,token_type_ids = token_type_ids,attention_mask = attention_mask, labels= labels)\n",
        "      total_loss += loss.item()\n",
        "\n",
        "      #compute gradients and update model\n",
        "      loss.backward()\n",
        "      torch.nn.utils.clip_grad_norm_(model.parameters(),1)\n",
        "      optimizer.step()\n",
        "      scheduler.step()\n",
        "\n",
        "      #remove data from device\n",
        "      input_ids.cpu()\n",
        "      token_type_ids.cpu()\n",
        "      attention_mask.cpu()\n",
        "      labels.cpu()\n",
        "    \n",
        "    #run test on the model\n",
        "    print(\"total_loss:\",total_loss)\n",
        "    (test_accuracy,test_loss) = run_test(model,test_set,device,cpu)\n",
        "    accuracies.append(test_accuracy)\n",
        "    print(\"test accuracy: {}, test_loss: {}\".format(test_accuracy,test_loss))\n",
        "  toc = time.perf_counter()\n",
        "  print(\"time:\",toc-tic)\n",
        "  return accuracies\n"
      ],
      "execution_count": null,
      "outputs": []
    },
    {
      "cell_type": "code",
      "metadata": {
        "id": "UZ9ZH0E4wPco",
        "colab_type": "code",
        "colab": {}
      },
      "source": [
        "torch.cuda.empty_cache()"
      ],
      "execution_count": null,
      "outputs": []
    },
    {
      "cell_type": "code",
      "metadata": {
        "id": "7NKXI2KY81kV",
        "colab_type": "code",
        "colab": {}
      },
      "source": [
        "\n",
        "def generate_story_vectors_using_bert(model_,file_path,indices = None):\n",
        "  #Load the Data Set\n",
        "  print(\"loading data set\")\n",
        "  train_set = cloze_data_set(file_path,indices = indices)\n",
        "  train_loader = torch.utils.data.DataLoader(train_set,batch_size = 32,collate_fn=train_set.collate_function_story_encoding)\n",
        "  print(\"Loading Complete\")\n",
        "  print(\"size of data set:\",len(train_set))\n",
        "\n",
        "  #Start Counter and Initialize variables\n",
        "  tic = time.perf_counter()\n",
        "  initialized = False\n",
        "  story_vectors = None\n",
        "  #loop through the batches and computer the data\n",
        "  for i,batch in enumerate(train_loader):\n",
        "    if (i+1) %100 == 0:\n",
        "      print(\"batches compled:\",i)\n",
        "\n",
        "    #send data to GPU\n",
        "    input_ids = batch['input_data']['input_ids'].to(device)\n",
        "    token_type_ids = batch['input_data']['token_type_ids'].to(device)\n",
        "    attention_mask = batch['input_data']['attention_mask'].to(device)\n",
        "    labels= batch['labels'].to(device)\n",
        "\n",
        "    #compute output without gradients and grab the pooled data using mean pooling\n",
        "    with torch.no_grad():\n",
        "      output = model_(input_ids = input_ids,token_type_ids = token_type_ids,attention_mask = attention_mask,output_hidden_states=True)\n",
        "      pooled = torch.mean(output[0][0],0,True)\n",
        "      for element in output[0][1:]:\n",
        "        #pool = torch.mean(element,0,True)\n",
        "        pooled = torch.cat((pooled,torch.mean(element,0,True)),0)\n",
        "\n",
        "      #off load the gpu\n",
        "      output_cpu = pooled.cpu()\n",
        "\n",
        "    #stack the output into large tensor for processing \n",
        "    if not initialized:\n",
        "      print(output_cpu.size())\n",
        "      story_vectors = output_cpu\n",
        "      initialized = True\n",
        "    else:\n",
        "      story_vectors = torch.cat((story_vectors,output_cpu),0)\n",
        "  toc = time.perf_counter()\n",
        "  print(story_vectors.size())\n",
        "  print(\"time to complete:\",toc-tic)\n",
        "  return story_vectors"
      ],
      "execution_count": null,
      "outputs": []
    },
    {
      "cell_type": "code",
      "metadata": {
        "id": "yaGHOg5Yn7vX",
        "colab_type": "code",
        "colab": {}
      },
      "source": [
        ""
      ],
      "execution_count": null,
      "outputs": []
    },
    {
      "cell_type": "code",
      "metadata": {
        "id": "aXky3L5Vq-rQ",
        "colab_type": "code",
        "colab": {
          "base_uri": "https://localhost:8080/",
          "height": 306
        },
        "outputId": "526156ac-f49f-4834-b46d-a4058c389870"
      },
      "source": [
        "!ln -sf /opt/bin/nvidia-smi /usr/bin/nvidia-smi\n",
        "!nvidia-smi\n"
      ],
      "execution_count": null,
      "outputs": [
        {
          "output_type": "stream",
          "text": [
            "Tue Aug  4 17:34:14 2020       \n",
            "+-----------------------------------------------------------------------------+\n",
            "| NVIDIA-SMI 418.67       Driver Version: 418.67       CUDA Version: 10.1     |\n",
            "|-------------------------------+----------------------+----------------------+\n",
            "| GPU  Name        Persistence-M| Bus-Id        Disp.A | Volatile Uncorr. ECC |\n",
            "| Fan  Temp  Perf  Pwr:Usage/Cap|         Memory-Usage | GPU-Util  Compute M. |\n",
            "|===============================+======================+======================|\n",
            "|   0  Tesla K80           Off  | 00000000:00:04.0 Off |                    0 |\n",
            "| N/A   51C    P8    31W / 149W |     11MiB / 11441MiB |      0%      Default |\n",
            "+-------------------------------+----------------------+----------------------+\n",
            "                                                                               \n",
            "+-----------------------------------------------------------------------------+\n",
            "| Processes:                                                       GPU Memory |\n",
            "|  GPU       PID   Type   Process name                             Usage      |\n",
            "|=============================================================================|\n",
            "|  No running processes found                                                 |\n",
            "+-----------------------------------------------------------------------------+\n"
          ],
          "name": "stdout"
        }
      ]
    },
    {
      "cell_type": "code",
      "metadata": {
        "id": "0x9NSnkm-hHe",
        "colab_type": "code",
        "colab": {}
      },
      "source": [
        "def get_sim_matrix(story_vectors):\n",
        "  tic = time.perf_counter()\n",
        "  #vectors = story_vectors.to(device)\n",
        "  story_norms  = torch.norm(story_vectors,dim=1)\n",
        "  for i in range(len(story_vectors)):\n",
        "    story_vectors[i] = story_vectors[i].div(story_norms[i]) \n",
        "  toc = time.perf_counter()\n",
        "  print(\"time to compute norms:\",toc-tic)\n",
        "  tic = time.perf_counter()\n",
        "  E = story_vectors.to(device)\n",
        "  tic = time.perf_counter()\n",
        "  V = E @ E.t()\n",
        "  toc = time.perf_counter()\n",
        "  print(\"time to compute matrix:\",toc-tic)\n",
        "  return V\n",
        "\n",
        "def select_elements(E,k,l):\n",
        "  tic_total = time.perf_counter()\n",
        "  n = E.size()[0]\n",
        "  e = torch.ones(n,1,device=device)\n",
        "  tic_ = time.perf_counter()\n",
        "  #marginals = (1/n)*(E @ e)\n",
        "  U = E @ e\n",
        "  L = torch.zeros(n,1,device=device)\n",
        "  losses = torch.zeros(n,1,device=device)\n",
        "  marginals = U - L\n",
        "  toc_ = time.perf_counter()\n",
        "  s = torch.argmax(marginals).item()\n",
        "  marginals[s,0] = 0\n",
        "  U[s,0] = -1000\n",
        "  L[s,0] = -1000\n",
        "  losses[s,0] = -1000\n",
        "  S = [s]\n",
        "  V_S = list(range(n)) \n",
        "  V_S.remove(s)\n",
        "  for i in range(1,k):\n",
        "    new_sims = torch.stack([E[:,s]],dim = 1)\n",
        "    U -= new_sims\n",
        "    L += new_sims \n",
        "    losses += l*new_sims\n",
        "\n",
        "    marginals =U - L - (l)*losses\n",
        "    tic = time.perf_counter()\n",
        "    s = torch.argmax(marginals).item()\n",
        "    U[s,0] = -1000\n",
        "    L[s,0] = -1000\n",
        "    toc = time.perf_counter()\n",
        "    S.append(s)\n",
        "  toc_total = time.perf_counter()\n",
        "  print(\"computed\",k,\"in\",toc_total-tic_total)\n",
        "  return S\n",
        "\n",
        "def select_elements_old(E,k,l):\n",
        "  tic_total = time.perf_counter()\n",
        "  n = E.size()[0]\n",
        "  e = torch.ones(n,1,device=device)\n",
        "  tic_ = time.perf_counter()\n",
        "  marginals = (1/n)*(E @ e)\n",
        "  toc_ = time.perf_counter()\n",
        "  s = torch.argmax(marginals).item()\n",
        "  marginals[s,0] = 0\n",
        "  S = [s]\n",
        "  V_S = list(range(n)) \n",
        "  V_S.remove(s)\n",
        "  for i in range(1,k):\n",
        "    marginals -=(1+l)*torch.stack([E[:,s]],dim = 1)\n",
        "    tic = time.perf_counter()\n",
        "    s = torch.argmax(marginals).item()\n",
        "    marginals[s,0] = -1000\n",
        "    toc = time.perf_counter()\n",
        "    S.append(s)\n",
        "  toc_total = time.perf_counter()\n",
        "  print(\"computed\",k,\"in\",toc_total-tic_total)\n",
        "\n",
        "  return S\n",
        "\n",
        "\n"
      ],
      "execution_count": null,
      "outputs": []
    },
    {
      "cell_type": "code",
      "metadata": {
        "id": "_JOP0Ewcv7fl",
        "colab_type": "code",
        "colab": {
          "base_uri": "https://localhost:8080/",
          "height": 100,
          "referenced_widgets": [
            "d6b757b4b9534fcf951d4f0c1a890ed6",
            "bcd6b6cf0f6d40b49241dbf13c4c3e39",
            "6cca173055e846788211ffb7545ef815",
            "a4e9e91b3b0e4d7d8527fbe2a80173ca",
            "940757d9da1944cfa7b15d66c7f6322e",
            "8c70e1d1ad2c4275b77df905b4a3017d",
            "9a191439266142bab47a8b7c2567760c",
            "ac0bd5bf663044a0b97e04691d67d1c3"
          ]
        },
        "outputId": "8b2a696a-232e-4ec3-e2db-ce0c0cc7a7f0"
      },
      "source": [
        "print(\"loading Test Loader data\")\n",
        "file_path_test = \"drive/My Drive/CS 680 Project/cloze_test_test__spring2016 - cloze_test_ALL_test.csv\"\n",
        "file_path_train = \"drive/My Drive/CS 680 Project/generated_dataset_3.csv\"\n",
        "file_path_val = \"drive/My Drive/CS 680 Project/cloze_test_val__spring2016 - cloze_test_ALL_val.csv\"\n",
        "file_path_val = \"drive/My Drive/CS 680 Project/winter_2018_val.csv\"\n",
        "file_path_val = \"drive/My Drive/CS 680 Project/redundant_data_set_1_100.csv\"\n",
        "\n",
        "#refined_data_set = cloze_data_set(file_path_val,indices = S)\n",
        "#random_data_set = cloze_data_set(file_path_val,indices = range(1500))#,indices = random_S)\n",
        "test_set = cloze_data_set(file_path_test)\n",
        "\n",
        "\n",
        "#refined_train_loader = DataLoader(refined_data_set,batch_size = 16,collate_fn=refined_data_set.collate_function)\n",
        "#random_train_loader = DataLoader(random_data_set,batch_size = 16,collate_fn=random_data_set.collate_function)\n",
        "test_loader = DataLoader(test_set,batch_size = 16,collate_fn=test_set.collate_function)\n",
        "print(\"done loading Data set\")"
      ],
      "execution_count": null,
      "outputs": [
        {
          "output_type": "stream",
          "text": [
            "loading Test Loader data\n"
          ],
          "name": "stdout"
        },
        {
          "output_type": "display_data",
          "data": {
            "application/vnd.jupyter.widget-view+json": {
              "model_id": "d6b757b4b9534fcf951d4f0c1a890ed6",
              "version_minor": 0,
              "version_major": 2
            },
            "text/plain": [
              "HBox(children=(FloatProgress(value=0.0, description='Downloading', max=231508.0, style=ProgressStyle(descripti…"
            ]
          },
          "metadata": {
            "tags": []
          }
        },
        {
          "output_type": "stream",
          "text": [
            "\n",
            "done loading Data set\n"
          ],
          "name": "stdout"
        }
      ]
    },
    {
      "cell_type": "code",
      "metadata": {
        "id": "JeJeXRUIePf8",
        "colab_type": "code",
        "colab": {
          "base_uri": "https://localhost:8080/",
          "height": 326
        },
        "outputId": "82201b8f-8c96-4032-cc94-09ec0527dc50"
      },
      "source": [
        "!pip install gensim\n",
        "import gensim"
      ],
      "execution_count": null,
      "outputs": [
        {
          "output_type": "stream",
          "text": [
            "Requirement already satisfied: gensim in /usr/local/lib/python3.6/dist-packages (3.6.0)\n",
            "Requirement already satisfied: six>=1.5.0 in /usr/local/lib/python3.6/dist-packages (from gensim) (1.15.0)\n",
            "Requirement already satisfied: smart-open>=1.2.1 in /usr/local/lib/python3.6/dist-packages (from gensim) (2.1.0)\n",
            "Requirement already satisfied: scipy>=0.18.1 in /usr/local/lib/python3.6/dist-packages (from gensim) (1.4.1)\n",
            "Requirement already satisfied: numpy>=1.11.3 in /usr/local/lib/python3.6/dist-packages (from gensim) (1.18.5)\n",
            "Requirement already satisfied: requests in /usr/local/lib/python3.6/dist-packages (from smart-open>=1.2.1->gensim) (2.23.0)\n",
            "Requirement already satisfied: boto in /usr/local/lib/python3.6/dist-packages (from smart-open>=1.2.1->gensim) (2.49.0)\n",
            "Requirement already satisfied: boto3 in /usr/local/lib/python3.6/dist-packages (from smart-open>=1.2.1->gensim) (1.14.33)\n",
            "Requirement already satisfied: urllib3!=1.25.0,!=1.25.1,<1.26,>=1.21.1 in /usr/local/lib/python3.6/dist-packages (from requests->smart-open>=1.2.1->gensim) (1.24.3)\n",
            "Requirement already satisfied: chardet<4,>=3.0.2 in /usr/local/lib/python3.6/dist-packages (from requests->smart-open>=1.2.1->gensim) (3.0.4)\n",
            "Requirement already satisfied: certifi>=2017.4.17 in /usr/local/lib/python3.6/dist-packages (from requests->smart-open>=1.2.1->gensim) (2020.6.20)\n",
            "Requirement already satisfied: idna<3,>=2.5 in /usr/local/lib/python3.6/dist-packages (from requests->smart-open>=1.2.1->gensim) (2.10)\n",
            "Requirement already satisfied: botocore<1.18.0,>=1.17.33 in /usr/local/lib/python3.6/dist-packages (from boto3->smart-open>=1.2.1->gensim) (1.17.33)\n",
            "Requirement already satisfied: jmespath<1.0.0,>=0.7.1 in /usr/local/lib/python3.6/dist-packages (from boto3->smart-open>=1.2.1->gensim) (0.10.0)\n",
            "Requirement already satisfied: s3transfer<0.4.0,>=0.3.0 in /usr/local/lib/python3.6/dist-packages (from boto3->smart-open>=1.2.1->gensim) (0.3.3)\n",
            "Requirement already satisfied: python-dateutil<3.0.0,>=2.1 in /usr/local/lib/python3.6/dist-packages (from botocore<1.18.0,>=1.17.33->boto3->smart-open>=1.2.1->gensim) (2.8.1)\n",
            "Requirement already satisfied: docutils<0.16,>=0.10 in /usr/local/lib/python3.6/dist-packages (from botocore<1.18.0,>=1.17.33->boto3->smart-open>=1.2.1->gensim) (0.15.2)\n"
          ],
          "name": "stdout"
        }
      ]
    },
    {
      "cell_type": "markdown",
      "metadata": {
        "id": "I6q6IMt8SLd-",
        "colab_type": "text"
      },
      "source": [
        "Full Model Training:"
      ]
    },
    {
      "cell_type": "code",
      "metadata": {
        "id": "C3jwa-VP3taV",
        "colab_type": "code",
        "colab": {}
      },
      "source": [
        "full_data_set = cloze_data_set(file_path_val)\n",
        "full_data_set_loader = DataLoader(full_data_set,batch_size = 16,collate_fn=full_data_set.collate_function)\n"
      ],
      "execution_count": null,
      "outputs": []
    },
    {
      "cell_type": "code",
      "metadata": {
        "id": "Aya2fKb8SPKv",
        "colab_type": "code",
        "colab": {
          "base_uri": "https://localhost:8080/",
          "height": 360
        },
        "outputId": "57d1baba-f116-44a2-ef22-5d67ba924d26"
      },
      "source": [
        "\n",
        "#train model\n",
        "\n",
        "configuration = BertConfig()\n",
        "print(\"Running Full Model Training\")\n",
        "torch.manual_seed(0)\n",
        "fullModel = BertForMultipleChoice.from_pretrained(\"bert-base-uncased\")\n",
        "fullModel.cuda()\n",
        "fullModel.train()\n",
        "print(\"refined test\",run_test(fullModel,test_loader,device,cpu))\n",
        "tic = time.perf_counter()\n",
        "full_accuracies = train_model(fullModel,full_data_set_loader,test_loader,device,cpu,5)\n",
        "toc = time.perf_counter()\n",
        "print(\"Full Accuracies\",full_accuracies)\n",
        "\n",
        "#free up memory for the model\n",
        "del fullModel"
      ],
      "execution_count": null,
      "outputs": [
        {
          "output_type": "stream",
          "text": [
            "Running Full Model Training\n"
          ],
          "name": "stdout"
        },
        {
          "output_type": "stream",
          "text": [
            "Some weights of the model checkpoint at bert-base-uncased were not used when initializing BertForMultipleChoice: ['cls.predictions.bias', 'cls.predictions.transform.dense.weight', 'cls.predictions.transform.dense.bias', 'cls.predictions.decoder.weight', 'cls.seq_relationship.weight', 'cls.seq_relationship.bias', 'cls.predictions.transform.LayerNorm.weight', 'cls.predictions.transform.LayerNorm.bias']\n",
            "- This IS expected if you are initializing BertForMultipleChoice from the checkpoint of a model trained on another task or with another architecture (e.g. initializing a BertForSequenceClassification model from a BertForPretraining model).\n",
            "- This IS NOT expected if you are initializing BertForMultipleChoice from the checkpoint of a model that you expect to be exactly identical (initializing a BertForSequenceClassification model from a BertForSequenceClassification model).\n",
            "Some weights of BertForMultipleChoice were not initialized from the model checkpoint at bert-base-uncased and are newly initialized: ['classifier.weight', 'classifier.bias']\n",
            "You should probably TRAIN this model on a down-stream task to be able to use it for predictions and inference.\n"
          ],
          "name": "stderr"
        },
        {
          "output_type": "stream",
          "text": [
            "refined test (0.48690539818278994, 81.68855518102646)\n",
            "total_loss: 61.64616894040546\n",
            "test accuracy: 0.7183324425440941, test_loss: 135.40818312764168\n",
            "total_loss: 55.657720672406356\n",
            "test accuracy: 0.6825227151256013, test_loss: 94.32538306713104\n",
            "total_loss: 55.37911007514775\n",
            "test accuracy: 0.7006948156066275, test_loss: 176.5616859048605\n",
            "total_loss: 51.265087577965545\n",
            "test accuracy: 0.6686264029930519, test_loss: 247.19418866932392\n",
            "total_loss: 104.40747425801595\n",
            "test accuracy: 0.7616247995724211, test_loss: 175.1657616943121\n",
            "time: 946.1796539650004\n",
            "Full Accuracies [0.7183324425440941, 0.6825227151256013, 0.7006948156066275, 0.6686264029930519, 0.7616247995724211]\n"
          ],
          "name": "stdout"
        }
      ]
    },
    {
      "cell_type": "code",
      "metadata": {
        "id": "tTLdYCpgeXpl",
        "colab_type": "code",
        "colab": {
          "base_uri": "https://localhost:8080/",
          "height": 68
        },
        "outputId": "cfa1e597-ebe8-42ae-bd85-0ad715868b47"
      },
      "source": [
        "tic = time.perf_counter()\n",
        "gensim_model = gensim.models.doc2vec.Doc2Vec(vector_size = 100,min_count =2 ,epochs = 40)\n",
        "\n",
        "text_corpus = []\n",
        "gensim_tokenized = []\n",
        "for i,story in enumerate(full_data_set.stories):\n",
        "  tokens = gensim.utils.simple_preprocess(story)\n",
        "  gensim_tokenized.append(tokens)\n",
        "  text_corpus.append(gensim.models.doc2vec.TaggedDocument(tokens, [i]))\n",
        "\n",
        "print(\"generating corpus\")\n",
        "gensim_model.build_vocab(text_corpus)\n",
        "gensim_model.train(text_corpus,total_examples=gensim_model.corpus_count,epochs = gensim_model.epochs)\n",
        "gensim_vectors = []\n",
        "print(\"generating vectors\")\n",
        "for tokens in gensim_tokenized:\n",
        "  gensim_vectors.append(gensim_model.infer_vector(tokens))\n",
        "\n",
        "gensim_vectors = np.stack(gensim_vectors)\n",
        "\n",
        "gensim_vectors = torch.from_numpy(gensim_vectors)\n",
        "toc = time.perf_counter()\n",
        "\n",
        "print(\"Time To Compute Gensim Embeddings \",toc-tic)"
      ],
      "execution_count": null,
      "outputs": [
        {
          "output_type": "stream",
          "text": [
            "generating corpus\n",
            "generating vectors\n",
            "Time To Compute Gensim Embeddings  46.834745743999974\n"
          ],
          "name": "stdout"
        }
      ]
    },
    {
      "cell_type": "code",
      "metadata": {
        "id": "V7tHwTxiMeoB",
        "colab_type": "code",
        "colab": {
          "base_uri": "https://localhost:8080/",
          "height": 234,
          "referenced_widgets": [
            "2e6f0e5578d94f5b923424c0751a7362",
            "313f56e0f6c0476da27651be3af07481",
            "d96a928cc7ec48c682d337a511b7f82e",
            "8ba6d5dbfc8d401a8d755a6d76e34b43",
            "716e3525316e40ca9286f63ef459038a",
            "ba31b9b30c624a868205da7e024e47f1",
            "5ec44282f9e4492289aa403de7173c9a",
            "390f5d4455ba47f69842572b0f52f35e",
            "bc814e1da43a4ca0a68bd316944fdd71",
            "9739d28577b54bcfbf90e8af749f19d4",
            "9bd6619c6b2648d68a3c7a8cca8e4b69",
            "7e6ab92f5ea9472cb73b8b30beb383fd",
            "4b3b2b62674f4e11859d7ef37aaf3511",
            "06788bb50f3d47e0b93607612ffa51c6",
            "769513f5fc444fbdb58cbe91ec7f04fd",
            "1be243ca58e047369ad0daf6d42024ed"
          ]
        },
        "outputId": "428329e0-3fa1-45e6-9565-0885f903ee54"
      },
      "source": [
        "from transformers import BertModel, BertTokenizer\n",
        "\n",
        "model = BertModel.from_pretrained('bert-base-uncased')\n",
        "model.eval()\n",
        "model.cuda()\n",
        "\n",
        "bert_story_vectors = generate_story_vectors_using_bert(model,file_path_val)\n"
      ],
      "execution_count": null,
      "outputs": [
        {
          "output_type": "display_data",
          "data": {
            "application/vnd.jupyter.widget-view+json": {
              "model_id": "2e6f0e5578d94f5b923424c0751a7362",
              "version_minor": 0,
              "version_major": 2
            },
            "text/plain": [
              "HBox(children=(FloatProgress(value=0.0, description='Downloading', max=433.0, style=ProgressStyle(description_…"
            ]
          },
          "metadata": {
            "tags": []
          }
        },
        {
          "output_type": "stream",
          "text": [
            "\n"
          ],
          "name": "stdout"
        },
        {
          "output_type": "display_data",
          "data": {
            "application/vnd.jupyter.widget-view+json": {
              "model_id": "bc814e1da43a4ca0a68bd316944fdd71",
              "version_minor": 0,
              "version_major": 2
            },
            "text/plain": [
              "HBox(children=(FloatProgress(value=0.0, description='Downloading', max=440473133.0, style=ProgressStyle(descri…"
            ]
          },
          "metadata": {
            "tags": []
          }
        },
        {
          "output_type": "stream",
          "text": [
            "\n",
            "loading data set\n",
            "Loading Complete\n",
            "size of data set: 3671\n",
            "torch.Size([32, 768])\n",
            "batches compled: 99\n",
            "torch.Size([3671, 768])\n",
            "time to complete: 25.177850074000048\n"
          ],
          "name": "stdout"
        }
      ]
    },
    {
      "cell_type": "code",
      "metadata": {
        "id": "YNI2s5ldjUuw",
        "colab_type": "code",
        "colab": {}
      },
      "source": [
        "def train_model_vectors(bert_story_vectors, size, file_path,l):\n",
        "  #calculate the sim matrix\n",
        "  E = get_sim_matrix(bert_story_vectors)\n",
        "  \n",
        "  #select elements\n",
        "  S = select_elements(E,size,l)\n",
        "\n",
        "  #generate bert data set and train model\n",
        "  refined_set_bert = cloze_data_set(file_path,indices= S)\n",
        "  refined_loader_bert = DataLoader(refined_set_bert,batch_size = 16,collate_fn=refined_set_bert.collate_function)\n",
        "  torch.manual_seed(0)\n",
        "  refined_bert_model = BertForMultipleChoice.from_pretrained(\"bert-base-uncased\")\n",
        "  refined_bert_model.cuda()\n",
        "  refined_bert_model.train()\n",
        "  #print(\"refined test\",run_test(refined_bert_model,test_loader,device,cpu))\n",
        "  tic = time.perf_counter()\n",
        "  accuracies = train_model(refined_bert_model,refined_loader_bert,test_loader,device,cpu,5)\n",
        "  toc = time.perf_counter()\n",
        "  print(\"Accuracies\",accuracies)\n",
        "  \n",
        "  del refined_bert_model\n",
        "  return accuracies,toc-tic\n",
        "\n",
        "def train_model_random(data_set_size,size,file_path):\n",
        "  \n",
        "  #select elements\n",
        "  S = random.sample(list(range(data_set_size)),size)\n",
        "\n",
        "  #generate bert data set and train model\n",
        "  refined_set_bert = cloze_data_set(file_path,indices= S)\n",
        "  refined_loader_bert = DataLoader(refined_set_bert,batch_size = 16,collate_fn=refined_set_bert.collate_function)\n",
        "  torch.manual_seed(0)\n",
        "  refined_bert_model = BertForMultipleChoice.from_pretrained(\"bert-base-uncased\")\n",
        "  refined_bert_model.cuda()\n",
        "  refined_bert_model.train()\n",
        "  #print(\"refined test\",run_test(refined_bert_model,test_loader,device,cpu))\n",
        "  tic = time.perf_counter()\n",
        "  accuracies = train_model(refined_bert_model,refined_loader_bert,test_loader,device,cpu,5)\n",
        "  toc = time.perf_counter()\n",
        "  print(\"Accuracies\",accuracies)\n",
        "  \n",
        "  del refined_bert_model\n",
        "  return accuracies, toc-tic\n"
      ],
      "execution_count": null,
      "outputs": []
    },
    {
      "cell_type": "code",
      "metadata": {
        "id": "Fs1-lwl7Snvd",
        "colab_type": "code",
        "colab": {
          "base_uri": "https://localhost:8080/",
          "height": 1000
        },
        "outputId": "544d8994-2716-4932-953d-2a837b585a6a"
      },
      "source": [
        "#TEST STRUCTURE\n",
        "#generate Vector Sets\n",
        "\n",
        "#sizes = [100,100,300]\n",
        "#sizes = [50,100]\n",
        "bert_story_vector_accuracy_sets = []\n",
        "gensim_story_vector_accuracy_sets = []\n",
        "random_accuracy_sets = []\n",
        "\n",
        "bert_times = []\n",
        "gensim_times= []\n",
        "random_times = []\n",
        "\n",
        "size_of_total_data_set = len(full_data_set)\n",
        "l = 2\n",
        "#LOOP THROUGH sizes \n",
        "sizes = [100,250,300] #,750,1000,2000]\n",
        "sizes = [int(0.05*size_of_total_data_set), int(0.1*size_of_total_data_set), int(0.25*size_of_total_data_set),int(0.4*size_of_total_data_set),int(0.6*size_of_total_data_set),int(0.8*size_of_total_data_set)]\n",
        "for size in sizes:\n",
        "  #calculate the sim matrix\n",
        "  print(\"EXECUTING BERT EMBEDDINGS:\",size)\n",
        "  bert_accuracies,time_to_execute = train_model_vectors(bert_story_vectors,size,file_path_val,l)\n",
        "  bert_times.append(time_to_execute)\n",
        "  bert_story_vector_accuracy_sets.append(bert_accuracies)\n",
        "\n",
        "  print(\"EXECUTING GENSIM EMBEDDINGS:\",size)\n",
        "  gensim_accuracies,time_to_execute = train_model_vectors(gensim_vectors,size,file_path_val,l)\n",
        "  gensim_times.append(time_to_execute)\n",
        "  gensim_story_vector_accuracy_sets.append(gensim_accuracies)\n",
        "\n",
        "  print(\"RANDOM EMBEDDINGS:\",size)\n",
        "  random_accuracy,time_to_execute = train_model_random(size_of_total_data_set,size,file_path_val)\n",
        "  random_times.append(time_to_execute)\n",
        "  random_accuracy_sets.append(random_accuracy)\n",
        "  \"\"\"\"\n",
        "  E = get_sim_matrix(bert_story_vectors)\n",
        "  \n",
        "  #select elements\n",
        "  S = select_elements(E,size)\n",
        "\n",
        "  #generate bert data set and train model\n",
        "  refined_set_bert = cloze_data_set(file_path_val,indices= S)\n",
        "  refined_loader_bert = DataLoader(refined_set_bert,batch_size = 16,collate_fn=refined_set_bert.collate_function)\n",
        "  torch.manual_seed(0)\n",
        "  refined_bert_model = BertForMultipleChoice.from_pretrained(\"bert-base-uncased\")\n",
        "  refined_bert_model.cuda()\n",
        "  refined_bert_model.train()\n",
        "  print(\"refined test\",run_test(refined_bert_model,test_loader,device,cpu))\n",
        "  tic = time.perf_counter()\n",
        "  bert_accuracies = train_model(refined_bert_model,refined_loader_bert,test_loader,device,cpu,5)\n",
        "  toc = time.perf_counter()\n",
        "  print(\"Bert Accuracies\",bert_accuracies)\n",
        "  bert_story_vector_accuracy_sets.append(bert_accuracies)\n",
        "  del refined_bert_model\n",
        "  #for each type of embedding [Bert, Gensim, Inverse Doc sum]\n",
        "    #calculate set\n",
        "    #Train model and record time and accuracies and losses\n",
        "  \"\"\"\n",
        "  \n"
      ],
      "execution_count": null,
      "outputs": [
        {
          "output_type": "stream",
          "text": [
            "EXECUTING BERT EMBEDDINGS: 183\n",
            "time to compute norms: 0.06479687700084469\n",
            "time to compute matrix: 0.00010753500009741401\n",
            "computed 183 in 0.04941087499992136\n"
          ],
          "name": "stdout"
        },
        {
          "output_type": "stream",
          "text": [
            "Some weights of the model checkpoint at bert-base-uncased were not used when initializing BertForMultipleChoice: ['cls.predictions.bias', 'cls.predictions.transform.dense.weight', 'cls.predictions.transform.dense.bias', 'cls.predictions.decoder.weight', 'cls.seq_relationship.weight', 'cls.seq_relationship.bias', 'cls.predictions.transform.LayerNorm.weight', 'cls.predictions.transform.LayerNorm.bias']\n",
            "- This IS expected if you are initializing BertForMultipleChoice from the checkpoint of a model trained on another task or with another architecture (e.g. initializing a BertForSequenceClassification model from a BertForPretraining model).\n",
            "- This IS NOT expected if you are initializing BertForMultipleChoice from the checkpoint of a model that you expect to be exactly identical (initializing a BertForSequenceClassification model from a BertForSequenceClassification model).\n",
            "Some weights of BertForMultipleChoice were not initialized from the model checkpoint at bert-base-uncased and are newly initialized: ['classifier.weight', 'classifier.bias']\n",
            "You should probably TRAIN this model on a down-stream task to be able to use it for predictions and inference.\n"
          ],
          "name": "stderr"
        },
        {
          "output_type": "stream",
          "text": [
            "total_loss: 8.345449209213257\n",
            "test accuracy: 0.635489043292357, test_loss: 80.10847717523575\n",
            "total_loss: 8.50364226102829\n",
            "test accuracy: 0.669695350080171, test_loss: 78.16710585355759\n",
            "total_loss: 7.674431502819061\n",
            "test accuracy: 0.6884019241047569, test_loss: 75.40489727258682\n",
            "total_loss: 6.8161099553108215\n",
            "test accuracy: 0.7124532335649385, test_loss: 72.79189801216125\n",
            "total_loss: 6.095380574464798\n",
            "test accuracy: 0.721004810261892, test_loss: 71.74053072929382\n",
            "time: 185.1752102620003\n",
            "Accuracies [0.635489043292357, 0.669695350080171, 0.6884019241047569, 0.7124532335649385, 0.721004810261892]\n",
            "EXECUTING GENSIM EMBEDDINGS: 183\n",
            "time to compute norms: 0.042534041999715555\n",
            "time to compute matrix: 7.493500015698373e-05\n",
            "computed 183 in 0.047211836999849766\n"
          ],
          "name": "stdout"
        },
        {
          "output_type": "stream",
          "text": [
            "Some weights of the model checkpoint at bert-base-uncased were not used when initializing BertForMultipleChoice: ['cls.predictions.bias', 'cls.predictions.transform.dense.weight', 'cls.predictions.transform.dense.bias', 'cls.predictions.decoder.weight', 'cls.seq_relationship.weight', 'cls.seq_relationship.bias', 'cls.predictions.transform.LayerNorm.weight', 'cls.predictions.transform.LayerNorm.bias']\n",
            "- This IS expected if you are initializing BertForMultipleChoice from the checkpoint of a model trained on another task or with another architecture (e.g. initializing a BertForSequenceClassification model from a BertForPretraining model).\n",
            "- This IS NOT expected if you are initializing BertForMultipleChoice from the checkpoint of a model that you expect to be exactly identical (initializing a BertForSequenceClassification model from a BertForSequenceClassification model).\n",
            "Some weights of BertForMultipleChoice were not initialized from the model checkpoint at bert-base-uncased and are newly initialized: ['classifier.weight', 'classifier.bias']\n",
            "You should probably TRAIN this model on a down-stream task to be able to use it for predictions and inference.\n"
          ],
          "name": "stderr"
        },
        {
          "output_type": "stream",
          "text": [
            "total_loss: 7.5939309895038605\n",
            "test accuracy: 0.5964724746125066, test_loss: 80.4588611125946\n",
            "total_loss: 4.864193856716156\n",
            "test accuracy: 0.5793693212185996, test_loss: 80.79020392894745\n",
            "total_loss: 1.8332729637622833\n",
            "test accuracy: 0.6050240513094601, test_loss: 83.14679896831512\n",
            "total_loss: 0.7929576318711042\n",
            "test accuracy: 0.5718866916087654, test_loss: 89.65050262212753\n",
            "total_loss: 0.3848968604579568\n",
            "test accuracy: 0.5836451095670764, test_loss: 95.16199386119843\n",
            "time: 185.2243679410003\n",
            "Accuracies [0.5964724746125066, 0.5793693212185996, 0.6050240513094601, 0.5718866916087654, 0.5836451095670764]\n",
            "RANDOM EMBEDDINGS: 183\n"
          ],
          "name": "stdout"
        },
        {
          "output_type": "stream",
          "text": [
            "Some weights of the model checkpoint at bert-base-uncased were not used when initializing BertForMultipleChoice: ['cls.predictions.bias', 'cls.predictions.transform.dense.weight', 'cls.predictions.transform.dense.bias', 'cls.predictions.decoder.weight', 'cls.seq_relationship.weight', 'cls.seq_relationship.bias', 'cls.predictions.transform.LayerNorm.weight', 'cls.predictions.transform.LayerNorm.bias']\n",
            "- This IS expected if you are initializing BertForMultipleChoice from the checkpoint of a model trained on another task or with another architecture (e.g. initializing a BertForSequenceClassification model from a BertForPretraining model).\n",
            "- This IS NOT expected if you are initializing BertForMultipleChoice from the checkpoint of a model that you expect to be exactly identical (initializing a BertForSequenceClassification model from a BertForSequenceClassification model).\n",
            "Some weights of BertForMultipleChoice were not initialized from the model checkpoint at bert-base-uncased and are newly initialized: ['classifier.weight', 'classifier.bias']\n",
            "You should probably TRAIN this model on a down-stream task to be able to use it for predictions and inference.\n"
          ],
          "name": "stderr"
        },
        {
          "output_type": "stream",
          "text": [
            "total_loss: 8.35550320148468\n",
            "test accuracy: 0.6199893105291288, test_loss: 80.96173572540283\n",
            "total_loss: 8.120988845825195\n",
            "test accuracy: 0.6643506146445751, test_loss: 78.07979089021683\n",
            "total_loss: 7.0153356194496155\n",
            "test accuracy: 0.6675574559059326, test_loss: 75.43654888868332\n",
            "total_loss: 6.005118668079376\n",
            "test accuracy: 0.6782469267771245, test_loss: 73.10038435459137\n",
            "total_loss: 5.1736438274383545\n",
            "test accuracy: 0.6889363976483164, test_loss: 72.16860717535019\n",
            "time: 185.13993394200043\n",
            "Accuracies [0.6199893105291288, 0.6643506146445751, 0.6675574559059326, 0.6782469267771245, 0.6889363976483164]\n",
            "EXECUTING BERT EMBEDDINGS: 367\n",
            "time to compute norms: 0.03936514199995145\n",
            "time to compute matrix: 6.167399988044053e-05\n",
            "computed 367 in 0.07871585300017614\n"
          ],
          "name": "stdout"
        },
        {
          "output_type": "stream",
          "text": [
            "Some weights of the model checkpoint at bert-base-uncased were not used when initializing BertForMultipleChoice: ['cls.predictions.bias', 'cls.predictions.transform.dense.weight', 'cls.predictions.transform.dense.bias', 'cls.predictions.decoder.weight', 'cls.seq_relationship.weight', 'cls.seq_relationship.bias', 'cls.predictions.transform.LayerNorm.weight', 'cls.predictions.transform.LayerNorm.bias']\n",
            "- This IS expected if you are initializing BertForMultipleChoice from the checkpoint of a model trained on another task or with another architecture (e.g. initializing a BertForSequenceClassification model from a BertForPretraining model).\n",
            "- This IS NOT expected if you are initializing BertForMultipleChoice from the checkpoint of a model that you expect to be exactly identical (initializing a BertForSequenceClassification model from a BertForSequenceClassification model).\n",
            "Some weights of BertForMultipleChoice were not initialized from the model checkpoint at bert-base-uncased and are newly initialized: ['classifier.weight', 'classifier.bias']\n",
            "You should probably TRAIN this model on a down-stream task to be able to use it for predictions and inference.\n"
          ],
          "name": "stderr"
        },
        {
          "output_type": "stream",
          "text": [
            "total_loss: 15.741864025592804\n",
            "test accuracy: 0.721004810261892, test_loss: 75.64100557565689\n",
            "total_loss: 11.629179134964943\n",
            "test accuracy: 0.7883484767504009, test_loss: 63.076546400785446\n",
            "total_loss: 7.386884205043316\n",
            "test accuracy: 0.7846071619454837, test_loss: 55.90557950735092\n",
            "total_loss: 4.538437288254499\n",
            "test accuracy: 0.8049171566007483, test_loss: 51.184275686740875\n",
            "total_loss: 2.981687568128109\n",
            "test accuracy: 0.8049171566007483, test_loss: 50.566743582487106\n",
            "time: 225.4717633149994\n",
            "Accuracies [0.721004810261892, 0.7883484767504009, 0.7846071619454837, 0.8049171566007483, 0.8049171566007483]\n",
            "EXECUTING GENSIM EMBEDDINGS: 367\n",
            "time to compute norms: 0.04016039799989812\n",
            "time to compute matrix: 7.873199956520693e-05\n",
            "computed 367 in 0.08637833899956604\n"
          ],
          "name": "stdout"
        },
        {
          "output_type": "stream",
          "text": [
            "Some weights of the model checkpoint at bert-base-uncased were not used when initializing BertForMultipleChoice: ['cls.predictions.bias', 'cls.predictions.transform.dense.weight', 'cls.predictions.transform.dense.bias', 'cls.predictions.decoder.weight', 'cls.seq_relationship.weight', 'cls.seq_relationship.bias', 'cls.predictions.transform.LayerNorm.weight', 'cls.predictions.transform.LayerNorm.bias']\n",
            "- This IS expected if you are initializing BertForMultipleChoice from the checkpoint of a model trained on another task or with another architecture (e.g. initializing a BertForSequenceClassification model from a BertForPretraining model).\n",
            "- This IS NOT expected if you are initializing BertForMultipleChoice from the checkpoint of a model that you expect to be exactly identical (initializing a BertForSequenceClassification model from a BertForSequenceClassification model).\n",
            "Some weights of BertForMultipleChoice were not initialized from the model checkpoint at bert-base-uncased and are newly initialized: ['classifier.weight', 'classifier.bias']\n",
            "You should probably TRAIN this model on a down-stream task to be able to use it for predictions and inference.\n"
          ],
          "name": "stderr"
        },
        {
          "output_type": "stream",
          "text": [
            "total_loss: 12.790741503238678\n",
            "test accuracy: 0.5921966862640299, test_loss: 79.09170109033585\n",
            "total_loss: 2.212381722405553\n",
            "test accuracy: 0.5873864243719936, test_loss: 97.89436280727386\n",
            "total_loss: 0.09063220367534086\n",
            "test accuracy: 0.5911277391769107, test_loss: 121.60493439435959\n",
            "total_loss: 0.06237620074534789\n",
            "test accuracy: 0.6098343132014965, test_loss: 123.99493782222271\n",
            "total_loss: 0.026651938824215904\n",
            "test accuracy: 0.6312132549438803, test_loss: 138.75349208712578\n",
            "time: 225.24098786499962\n",
            "Accuracies [0.5921966862640299, 0.5873864243719936, 0.5911277391769107, 0.6098343132014965, 0.6312132549438803]\n",
            "RANDOM EMBEDDINGS: 367\n"
          ],
          "name": "stdout"
        },
        {
          "output_type": "stream",
          "text": [
            "Some weights of the model checkpoint at bert-base-uncased were not used when initializing BertForMultipleChoice: ['cls.predictions.bias', 'cls.predictions.transform.dense.weight', 'cls.predictions.transform.dense.bias', 'cls.predictions.decoder.weight', 'cls.seq_relationship.weight', 'cls.seq_relationship.bias', 'cls.predictions.transform.LayerNorm.weight', 'cls.predictions.transform.LayerNorm.bias']\n",
            "- This IS expected if you are initializing BertForMultipleChoice from the checkpoint of a model trained on another task or with another architecture (e.g. initializing a BertForSequenceClassification model from a BertForPretraining model).\n",
            "- This IS NOT expected if you are initializing BertForMultipleChoice from the checkpoint of a model that you expect to be exactly identical (initializing a BertForSequenceClassification model from a BertForSequenceClassification model).\n",
            "Some weights of BertForMultipleChoice were not initialized from the model checkpoint at bert-base-uncased and are newly initialized: ['classifier.weight', 'classifier.bias']\n",
            "You should probably TRAIN this model on a down-stream task to be able to use it for predictions and inference.\n"
          ],
          "name": "stderr"
        },
        {
          "output_type": "stream",
          "text": [
            "total_loss: 15.693734765052795\n",
            "test accuracy: 0.6990913949759487, test_loss: 77.6158259510994\n",
            "total_loss: 11.625577479600906\n",
            "test accuracy: 0.7423837520042758, test_loss: 66.09393271803856\n",
            "total_loss: 6.112415574491024\n",
            "test accuracy: 0.755211117049706, test_loss: 59.827634036540985\n",
            "total_loss: 3.0771202947944403\n",
            "test accuracy: 0.760555852485302, test_loss: 59.653732895851135\n",
            "total_loss: 1.9244315335527062\n",
            "test accuracy: 0.7765900587920898, test_loss: 56.63444845378399\n",
            "time: 225.8691451500008\n",
            "Accuracies [0.6990913949759487, 0.7423837520042758, 0.755211117049706, 0.760555852485302, 0.7765900587920898]\n",
            "EXECUTING BERT EMBEDDINGS: 917\n",
            "time to compute norms: 0.061338387000432704\n",
            "time to compute matrix: 0.00010759799988591112\n",
            "computed 917 in 0.2610305009993681\n"
          ],
          "name": "stdout"
        },
        {
          "output_type": "stream",
          "text": [
            "Some weights of the model checkpoint at bert-base-uncased were not used when initializing BertForMultipleChoice: ['cls.predictions.bias', 'cls.predictions.transform.dense.weight', 'cls.predictions.transform.dense.bias', 'cls.predictions.decoder.weight', 'cls.seq_relationship.weight', 'cls.seq_relationship.bias', 'cls.predictions.transform.LayerNorm.weight', 'cls.predictions.transform.LayerNorm.bias']\n",
            "- This IS expected if you are initializing BertForMultipleChoice from the checkpoint of a model trained on another task or with another architecture (e.g. initializing a BertForSequenceClassification model from a BertForPretraining model).\n",
            "- This IS NOT expected if you are initializing BertForMultipleChoice from the checkpoint of a model that you expect to be exactly identical (initializing a BertForSequenceClassification model from a BertForSequenceClassification model).\n",
            "Some weights of BertForMultipleChoice were not initialized from the model checkpoint at bert-base-uncased and are newly initialized: ['classifier.weight', 'classifier.bias']\n",
            "You should probably TRAIN this model on a down-stream task to be able to use it for predictions and inference.\n"
          ],
          "name": "stderr"
        },
        {
          "output_type": "stream",
          "text": [
            "total_loss: 33.895597741007805\n",
            "test accuracy: 0.7771245323356494, test_loss: 57.618194937705994\n",
            "total_loss: 15.199880097061396\n",
            "test accuracy: 0.8209513629075361, test_loss: 47.573180355131626\n",
            "total_loss: 4.687062938231975\n",
            "test accuracy: 0.8423303046499199, test_loss: 43.543661803007126\n",
            "total_loss: 2.1505541016813368\n",
            "test accuracy: 0.8140032068412614, test_loss: 54.17332972586155\n",
            "total_loss: 1.3433208623318933\n",
            "test accuracy: 0.840726884019241, test_loss: 49.263020699843764\n",
            "time: 345.72979047899935\n",
            "Accuracies [0.7771245323356494, 0.8209513629075361, 0.8423303046499199, 0.8140032068412614, 0.840726884019241]\n",
            "EXECUTING GENSIM EMBEDDINGS: 917\n",
            "time to compute norms: 0.034383506000267516\n",
            "time to compute matrix: 7.656900015717838e-05\n",
            "computed 917 in 0.18563735199950315\n"
          ],
          "name": "stdout"
        },
        {
          "output_type": "stream",
          "text": [
            "Some weights of the model checkpoint at bert-base-uncased were not used when initializing BertForMultipleChoice: ['cls.predictions.bias', 'cls.predictions.transform.dense.weight', 'cls.predictions.transform.dense.bias', 'cls.predictions.decoder.weight', 'cls.seq_relationship.weight', 'cls.seq_relationship.bias', 'cls.predictions.transform.LayerNorm.weight', 'cls.predictions.transform.LayerNorm.bias']\n",
            "- This IS expected if you are initializing BertForMultipleChoice from the checkpoint of a model trained on another task or with another architecture (e.g. initializing a BertForSequenceClassification model from a BertForPretraining model).\n",
            "- This IS NOT expected if you are initializing BertForMultipleChoice from the checkpoint of a model that you expect to be exactly identical (initializing a BertForSequenceClassification model from a BertForSequenceClassification model).\n",
            "Some weights of BertForMultipleChoice were not initialized from the model checkpoint at bert-base-uncased and are newly initialized: ['classifier.weight', 'classifier.bias']\n",
            "You should probably TRAIN this model on a down-stream task to be able to use it for predictions and inference.\n"
          ],
          "name": "stderr"
        },
        {
          "output_type": "stream",
          "text": [
            "total_loss: 22.544557824730873\n",
            "test accuracy: 0.7183324425440941, test_loss: 69.8348146378994\n",
            "total_loss: 9.022884760051966\n",
            "test accuracy: 0.7616247995724211, test_loss: 60.4938562810421\n",
            "total_loss: 3.696459149941802\n",
            "test accuracy: 0.7653661143773384, test_loss: 65.07464745640755\n",
            "total_loss: 1.4591385027160868\n",
            "test accuracy: 0.7520042757883485, test_loss: 61.96685929596424\n",
            "total_loss: 1.0456669686245732\n",
            "test accuracy: 0.7781934794227686, test_loss: 62.11329337954521\n",
            "time: 277.43789278999975\n",
            "Accuracies [0.7183324425440941, 0.7616247995724211, 0.7653661143773384, 0.7520042757883485, 0.7781934794227686]\n",
            "RANDOM EMBEDDINGS: 917\n"
          ],
          "name": "stdout"
        },
        {
          "output_type": "stream",
          "text": [
            "Some weights of the model checkpoint at bert-base-uncased were not used when initializing BertForMultipleChoice: ['cls.predictions.bias', 'cls.predictions.transform.dense.weight', 'cls.predictions.transform.dense.bias', 'cls.predictions.decoder.weight', 'cls.seq_relationship.weight', 'cls.seq_relationship.bias', 'cls.predictions.transform.LayerNorm.weight', 'cls.predictions.transform.LayerNorm.bias']\n",
            "- This IS expected if you are initializing BertForMultipleChoice from the checkpoint of a model trained on another task or with another architecture (e.g. initializing a BertForSequenceClassification model from a BertForPretraining model).\n",
            "- This IS NOT expected if you are initializing BertForMultipleChoice from the checkpoint of a model that you expect to be exactly identical (initializing a BertForSequenceClassification model from a BertForSequenceClassification model).\n",
            "Some weights of BertForMultipleChoice were not initialized from the model checkpoint at bert-base-uncased and are newly initialized: ['classifier.weight', 'classifier.bias']\n",
            "You should probably TRAIN this model on a down-stream task to be able to use it for predictions and inference.\n"
          ],
          "name": "stderr"
        },
        {
          "output_type": "stream",
          "text": [
            "total_loss: 28.795616693794727\n",
            "test accuracy: 0.7471940138963121, test_loss: 59.26089629530907\n",
            "total_loss: 10.968017319450155\n",
            "test accuracy: 0.7642971672902191, test_loss: 75.95533420145512\n",
            "total_loss: 3.3866801383701386\n",
            "test accuracy: 0.7819347942276857, test_loss: 70.94413775205612\n",
            "total_loss: 2.483172928186832\n",
            "test accuracy: 0.7685729556386959, test_loss: 104.80698199570179\n",
            "total_loss: 2.674843068314658\n",
            "test accuracy: 0.8166755745590594, test_loss: 72.14424538612366\n",
            "time: 346.00834809500066\n",
            "Accuracies [0.7471940138963121, 0.7642971672902191, 0.7819347942276857, 0.7685729556386959, 0.8166755745590594]\n",
            "EXECUTING BERT EMBEDDINGS: 1468\n",
            "time to compute norms: 0.06307684899911692\n",
            "time to compute matrix: 0.00012153799980296753\n",
            "computed 1468 in 0.31637720899925625\n"
          ],
          "name": "stdout"
        },
        {
          "output_type": "stream",
          "text": [
            "Some weights of the model checkpoint at bert-base-uncased were not used when initializing BertForMultipleChoice: ['cls.predictions.bias', 'cls.predictions.transform.dense.weight', 'cls.predictions.transform.dense.bias', 'cls.predictions.decoder.weight', 'cls.seq_relationship.weight', 'cls.seq_relationship.bias', 'cls.predictions.transform.LayerNorm.weight', 'cls.predictions.transform.LayerNorm.bias']\n",
            "- This IS expected if you are initializing BertForMultipleChoice from the checkpoint of a model trained on another task or with another architecture (e.g. initializing a BertForSequenceClassification model from a BertForPretraining model).\n",
            "- This IS NOT expected if you are initializing BertForMultipleChoice from the checkpoint of a model that you expect to be exactly identical (initializing a BertForSequenceClassification model from a BertForSequenceClassification model).\n",
            "Some weights of BertForMultipleChoice were not initialized from the model checkpoint at bert-base-uncased and are newly initialized: ['classifier.weight', 'classifier.bias']\n",
            "You should probably TRAIN this model on a down-stream task to be able to use it for predictions and inference.\n"
          ],
          "name": "stderr"
        },
        {
          "output_type": "stream",
          "text": [
            "total_loss: 39.645123563241214\n",
            "test accuracy: 0.760555852485302, test_loss: 63.2176381573081\n",
            "total_loss: 15.163134466820338\n",
            "test accuracy: 0.7306253340459647, test_loss: 146.14675444364548\n",
            "total_loss: 12.170655628608984\n",
            "test accuracy: 0.7226082308925709, test_loss: 187.29659235477448\n",
            "total_loss: 21.498406571798114\n",
            "test accuracy: 0.8113308391234634, test_loss: 64.99518848210573\n",
            "total_loss: 5.466681188539042\n",
            "test accuracy: 0.8327097808658471, test_loss: 75.73674572631717\n",
            "time: 467.04850017600074\n",
            "Accuracies [0.760555852485302, 0.7306253340459647, 0.7226082308925709, 0.8113308391234634, 0.8327097808658471]\n",
            "EXECUTING GENSIM EMBEDDINGS: 1468\n",
            "time to compute norms: 0.0350594440005807\n",
            "time to compute matrix: 8.904700007406063e-05\n",
            "computed 1468 in 0.3002268799991725\n"
          ],
          "name": "stdout"
        },
        {
          "output_type": "stream",
          "text": [
            "Some weights of the model checkpoint at bert-base-uncased were not used when initializing BertForMultipleChoice: ['cls.predictions.bias', 'cls.predictions.transform.dense.weight', 'cls.predictions.transform.dense.bias', 'cls.predictions.decoder.weight', 'cls.seq_relationship.weight', 'cls.seq_relationship.bias', 'cls.predictions.transform.LayerNorm.weight', 'cls.predictions.transform.LayerNorm.bias']\n",
            "- This IS expected if you are initializing BertForMultipleChoice from the checkpoint of a model trained on another task or with another architecture (e.g. initializing a BertForSequenceClassification model from a BertForPretraining model).\n",
            "- This IS NOT expected if you are initializing BertForMultipleChoice from the checkpoint of a model that you expect to be exactly identical (initializing a BertForSequenceClassification model from a BertForSequenceClassification model).\n",
            "Some weights of BertForMultipleChoice were not initialized from the model checkpoint at bert-base-uncased and are newly initialized: ['classifier.weight', 'classifier.bias']\n",
            "You should probably TRAIN this model on a down-stream task to be able to use it for predictions and inference.\n"
          ],
          "name": "stderr"
        },
        {
          "output_type": "stream",
          "text": [
            "total_loss: 26.92233330756426\n",
            "test accuracy: 0.7482629609834314, test_loss: 60.64911609888077\n",
            "total_loss: 10.495694520883262\n",
            "test accuracy: 0.806520577231427, test_loss: 53.67845977842808\n",
            "total_loss: 3.3539883906487375\n",
            "test accuracy: 0.8011758417958311, test_loss: 59.57536079734564\n",
            "total_loss: 1.6794466029386967\n",
            "test accuracy: 0.8225547835382149, test_loss: 53.04937334358692\n",
            "total_loss: 1.3412769643764477\n",
            "test accuracy: 0.8311063602351684, test_loss: 56.84062331914902\n",
            "time: 316.95100833700053\n",
            "Accuracies [0.7482629609834314, 0.806520577231427, 0.8011758417958311, 0.8225547835382149, 0.8311063602351684]\n",
            "RANDOM EMBEDDINGS: 1468\n"
          ],
          "name": "stdout"
        },
        {
          "output_type": "stream",
          "text": [
            "Some weights of the model checkpoint at bert-base-uncased were not used when initializing BertForMultipleChoice: ['cls.predictions.bias', 'cls.predictions.transform.dense.weight', 'cls.predictions.transform.dense.bias', 'cls.predictions.decoder.weight', 'cls.seq_relationship.weight', 'cls.seq_relationship.bias', 'cls.predictions.transform.LayerNorm.weight', 'cls.predictions.transform.LayerNorm.bias']\n",
            "- This IS expected if you are initializing BertForMultipleChoice from the checkpoint of a model trained on another task or with another architecture (e.g. initializing a BertForSequenceClassification model from a BertForPretraining model).\n",
            "- This IS NOT expected if you are initializing BertForMultipleChoice from the checkpoint of a model that you expect to be exactly identical (initializing a BertForSequenceClassification model from a BertForSequenceClassification model).\n",
            "Some weights of BertForMultipleChoice were not initialized from the model checkpoint at bert-base-uncased and are newly initialized: ['classifier.weight', 'classifier.bias']\n",
            "You should probably TRAIN this model on a down-stream task to be able to use it for predictions and inference.\n"
          ],
          "name": "stderr"
        },
        {
          "output_type": "stream",
          "text": [
            "total_loss: 39.458706992911175\n",
            "test accuracy: 0.7060395510422234, test_loss: 91.04347153007984\n",
            "total_loss: 21.262688921189692\n",
            "test accuracy: 0.6648850881881346, test_loss: 102.06199452280998\n",
            "total_loss: 23.537234224041413\n",
            "test accuracy: 0.6659540352752539, test_loss: 219.5886343717575\n",
            "total_loss: 40.16835312077092\n",
            "test accuracy: 0.6595403527525387, test_loss: 118.69114539027214\n",
            "total_loss: 31.308218615242367\n",
            "test accuracy: 0.721004810261892, test_loss: 109.59519273042679\n",
            "time: 466.4883605590003\n",
            "Accuracies [0.7060395510422234, 0.6648850881881346, 0.6659540352752539, 0.6595403527525387, 0.721004810261892]\n",
            "EXECUTING BERT EMBEDDINGS: 2202\n",
            "time to compute norms: 0.04739662199972372\n",
            "time to compute matrix: 8.59179999679327e-05\n",
            "computed 2202 in 0.4488559500005067\n"
          ],
          "name": "stdout"
        },
        {
          "output_type": "stream",
          "text": [
            "Some weights of the model checkpoint at bert-base-uncased were not used when initializing BertForMultipleChoice: ['cls.predictions.bias', 'cls.predictions.transform.dense.weight', 'cls.predictions.transform.dense.bias', 'cls.predictions.decoder.weight', 'cls.seq_relationship.weight', 'cls.seq_relationship.bias', 'cls.predictions.transform.LayerNorm.weight', 'cls.predictions.transform.LayerNorm.bias']\n",
            "- This IS expected if you are initializing BertForMultipleChoice from the checkpoint of a model trained on another task or with another architecture (e.g. initializing a BertForSequenceClassification model from a BertForPretraining model).\n",
            "- This IS NOT expected if you are initializing BertForMultipleChoice from the checkpoint of a model that you expect to be exactly identical (initializing a BertForSequenceClassification model from a BertForSequenceClassification model).\n",
            "Some weights of BertForMultipleChoice were not initialized from the model checkpoint at bert-base-uncased and are newly initialized: ['classifier.weight', 'classifier.bias']\n",
            "You should probably TRAIN this model on a down-stream task to be able to use it for predictions and inference.\n"
          ],
          "name": "stderr"
        },
        {
          "output_type": "stream",
          "text": [
            "total_loss: 44.80680343846325\n",
            "test accuracy: 0.7739176910742919, test_loss: 71.03771933913231\n",
            "total_loss: 17.38906196638709\n",
            "test accuracy: 0.7108498129342598, test_loss: 136.13756407797337\n",
            "total_loss: 19.60917184429718\n",
            "test accuracy: 0.726349545697488, test_loss: 190.61177945137024\n",
            "total_loss: 25.356306672213236\n",
            "test accuracy: 0.7985034740780331, test_loss: 73.84839956462383\n",
            "total_loss: 11.97928104871744\n",
            "test accuracy: 0.840726884019241, test_loss: 64.57768112793565\n",
            "time: 549.5790873920014\n",
            "Accuracies [0.7739176910742919, 0.7108498129342598, 0.726349545697488, 0.7985034740780331, 0.840726884019241]\n",
            "EXECUTING GENSIM EMBEDDINGS: 2202\n",
            "time to compute norms: 0.04338753299998643\n",
            "time to compute matrix: 0.00018685000031837262\n",
            "computed 2202 in 0.4517217359989445\n"
          ],
          "name": "stdout"
        },
        {
          "output_type": "stream",
          "text": [
            "Some weights of the model checkpoint at bert-base-uncased were not used when initializing BertForMultipleChoice: ['cls.predictions.bias', 'cls.predictions.transform.dense.weight', 'cls.predictions.transform.dense.bias', 'cls.predictions.decoder.weight', 'cls.seq_relationship.weight', 'cls.seq_relationship.bias', 'cls.predictions.transform.LayerNorm.weight', 'cls.predictions.transform.LayerNorm.bias']\n",
            "- This IS expected if you are initializing BertForMultipleChoice from the checkpoint of a model trained on another task or with another architecture (e.g. initializing a BertForSequenceClassification model from a BertForPretraining model).\n",
            "- This IS NOT expected if you are initializing BertForMultipleChoice from the checkpoint of a model that you expect to be exactly identical (initializing a BertForSequenceClassification model from a BertForSequenceClassification model).\n",
            "Some weights of BertForMultipleChoice were not initialized from the model checkpoint at bert-base-uncased and are newly initialized: ['classifier.weight', 'classifier.bias']\n",
            "You should probably TRAIN this model on a down-stream task to be able to use it for predictions and inference.\n"
          ],
          "name": "stderr"
        },
        {
          "output_type": "stream",
          "text": [
            "total_loss: 32.47706034779549\n",
            "test accuracy: 0.7487974345269909, test_loss: 58.962018966674805\n",
            "total_loss: 12.817118262406439\n",
            "test accuracy: 0.7958311063602351, test_loss: 59.90970914065838\n",
            "total_loss: 4.48296576627763\n",
            "test accuracy: 0.8385889898450026, test_loss: 50.301954843103886\n",
            "total_loss: 2.0671919195738155\n",
            "test accuracy: 0.7691074291822555, test_loss: 91.63265597075224\n",
            "total_loss: 4.187460323955747\n",
            "test accuracy: 0.8284339925173704, test_loss: 64.25320582836866\n",
            "time: 354.6789590729986\n",
            "Accuracies [0.7487974345269909, 0.7958311063602351, 0.8385889898450026, 0.7691074291822555, 0.8284339925173704]\n",
            "RANDOM EMBEDDINGS: 2202\n"
          ],
          "name": "stdout"
        },
        {
          "output_type": "stream",
          "text": [
            "Some weights of the model checkpoint at bert-base-uncased were not used when initializing BertForMultipleChoice: ['cls.predictions.bias', 'cls.predictions.transform.dense.weight', 'cls.predictions.transform.dense.bias', 'cls.predictions.decoder.weight', 'cls.seq_relationship.weight', 'cls.seq_relationship.bias', 'cls.predictions.transform.LayerNorm.weight', 'cls.predictions.transform.LayerNorm.bias']\n",
            "- This IS expected if you are initializing BertForMultipleChoice from the checkpoint of a model trained on another task or with another architecture (e.g. initializing a BertForSequenceClassification model from a BertForPretraining model).\n",
            "- This IS NOT expected if you are initializing BertForMultipleChoice from the checkpoint of a model that you expect to be exactly identical (initializing a BertForSequenceClassification model from a BertForSequenceClassification model).\n",
            "Some weights of BertForMultipleChoice were not initialized from the model checkpoint at bert-base-uncased and are newly initialized: ['classifier.weight', 'classifier.bias']\n",
            "You should probably TRAIN this model on a down-stream task to be able to use it for predictions and inference.\n"
          ],
          "name": "stderr"
        },
        {
          "output_type": "stream",
          "text": [
            "total_loss: 47.60878222330939\n",
            "test accuracy: 0.7926242650988776, test_loss: 67.3228260204196\n",
            "total_loss: 21.83566197964683\n",
            "test accuracy: 0.7076429716729022, test_loss: 128.0226545035839\n",
            "total_loss: 21.301473742931194\n",
            "test accuracy: 0.7728487439871726, test_loss: 77.00634422153234\n",
            "total_loss: 12.80824289166867\n",
            "test accuracy: 0.814537680384821, test_loss: 82.98098056577146\n",
            "total_loss: 8.911600607511218\n",
            "test accuracy: 0.7985034740780331, test_loss: 118.46155947633088\n",
            "time: 627.2101291769995\n",
            "Accuracies [0.7926242650988776, 0.7076429716729022, 0.7728487439871726, 0.814537680384821, 0.7985034740780331]\n",
            "EXECUTING BERT EMBEDDINGS: 2936\n",
            "time to compute norms: 0.04832364299909386\n",
            "time to compute matrix: 0.00020167700131423771\n",
            "computed 2936 in 0.5913693459988281\n"
          ],
          "name": "stdout"
        },
        {
          "output_type": "stream",
          "text": [
            "Some weights of the model checkpoint at bert-base-uncased were not used when initializing BertForMultipleChoice: ['cls.predictions.bias', 'cls.predictions.transform.dense.weight', 'cls.predictions.transform.dense.bias', 'cls.predictions.decoder.weight', 'cls.seq_relationship.weight', 'cls.seq_relationship.bias', 'cls.predictions.transform.LayerNorm.weight', 'cls.predictions.transform.LayerNorm.bias']\n",
            "- This IS expected if you are initializing BertForMultipleChoice from the checkpoint of a model trained on another task or with another architecture (e.g. initializing a BertForSequenceClassification model from a BertForPretraining model).\n",
            "- This IS NOT expected if you are initializing BertForMultipleChoice from the checkpoint of a model that you expect to be exactly identical (initializing a BertForSequenceClassification model from a BertForSequenceClassification model).\n",
            "Some weights of BertForMultipleChoice were not initialized from the model checkpoint at bert-base-uncased and are newly initialized: ['classifier.weight', 'classifier.bias']\n",
            "You should probably TRAIN this model on a down-stream task to be able to use it for predictions and inference.\n"
          ],
          "name": "stderr"
        },
        {
          "output_type": "stream",
          "text": [
            "total_loss: 44.80680343846325\n",
            "test accuracy: 0.7739176910742919, test_loss: 71.03771933913231\n",
            "total_loss: 17.38906196638709\n",
            "test accuracy: 0.7108498129342598, test_loss: 136.13756407797337\n",
            "total_loss: 19.60917184429718\n",
            "test accuracy: 0.726349545697488, test_loss: 190.61177945137024\n",
            "total_loss: 25.356306672213236\n",
            "test accuracy: 0.7985034740780331, test_loss: 73.84839956462383\n",
            "total_loss: 11.97928104871744\n",
            "test accuracy: 0.840726884019241, test_loss: 64.57768112793565\n",
            "time: 549.242411786001\n",
            "Accuracies [0.7739176910742919, 0.7108498129342598, 0.726349545697488, 0.7985034740780331, 0.840726884019241]\n",
            "EXECUTING GENSIM EMBEDDINGS: 2936\n",
            "time to compute norms: 0.03787502500017581\n",
            "time to compute matrix: 8.716999946045689e-05\n",
            "computed 2936 in 0.610856335999415\n"
          ],
          "name": "stdout"
        },
        {
          "output_type": "stream",
          "text": [
            "Some weights of the model checkpoint at bert-base-uncased were not used when initializing BertForMultipleChoice: ['cls.predictions.bias', 'cls.predictions.transform.dense.weight', 'cls.predictions.transform.dense.bias', 'cls.predictions.decoder.weight', 'cls.seq_relationship.weight', 'cls.seq_relationship.bias', 'cls.predictions.transform.LayerNorm.weight', 'cls.predictions.transform.LayerNorm.bias']\n",
            "- This IS expected if you are initializing BertForMultipleChoice from the checkpoint of a model trained on another task or with another architecture (e.g. initializing a BertForSequenceClassification model from a BertForPretraining model).\n",
            "- This IS NOT expected if you are initializing BertForMultipleChoice from the checkpoint of a model that you expect to be exactly identical (initializing a BertForSequenceClassification model from a BertForSequenceClassification model).\n",
            "Some weights of BertForMultipleChoice were not initialized from the model checkpoint at bert-base-uncased and are newly initialized: ['classifier.weight', 'classifier.bias']\n",
            "You should probably TRAIN this model on a down-stream task to be able to use it for predictions and inference.\n"
          ],
          "name": "stderr"
        },
        {
          "output_type": "stream",
          "text": [
            "total_loss: 37.72321426123381\n",
            "test accuracy: 0.7824692677712454, test_loss: 54.265728414058685\n",
            "total_loss: 14.704051952809095\n",
            "test accuracy: 0.8241582041688936, test_loss: 51.66719615459442\n",
            "total_loss: 3.647600490716286\n",
            "test accuracy: 0.8450026723677178, test_loss: 51.876585371792316\n",
            "total_loss: 1.558629198341805\n",
            "test accuracy: 0.8156066274719401, test_loss: 59.04691532254219\n",
            "total_loss: 3.245459076068073\n",
            "test accuracy: 0.8546231961517905, test_loss: 51.7740085683763\n",
            "time: 390.0002696319989\n",
            "Accuracies [0.7824692677712454, 0.8241582041688936, 0.8450026723677178, 0.8156066274719401, 0.8546231961517905]\n",
            "RANDOM EMBEDDINGS: 2936\n"
          ],
          "name": "stdout"
        },
        {
          "output_type": "stream",
          "text": [
            "Some weights of the model checkpoint at bert-base-uncased were not used when initializing BertForMultipleChoice: ['cls.predictions.bias', 'cls.predictions.transform.dense.weight', 'cls.predictions.transform.dense.bias', 'cls.predictions.decoder.weight', 'cls.seq_relationship.weight', 'cls.seq_relationship.bias', 'cls.predictions.transform.LayerNorm.weight', 'cls.predictions.transform.LayerNorm.bias']\n",
            "- This IS expected if you are initializing BertForMultipleChoice from the checkpoint of a model trained on another task or with another architecture (e.g. initializing a BertForSequenceClassification model from a BertForPretraining model).\n",
            "- This IS NOT expected if you are initializing BertForMultipleChoice from the checkpoint of a model that you expect to be exactly identical (initializing a BertForSequenceClassification model from a BertForSequenceClassification model).\n",
            "Some weights of BertForMultipleChoice were not initialized from the model checkpoint at bert-base-uncased and are newly initialized: ['classifier.weight', 'classifier.bias']\n",
            "You should probably TRAIN this model on a down-stream task to be able to use it for predictions and inference.\n"
          ],
          "name": "stderr"
        },
        {
          "output_type": "stream",
          "text": [
            "total_loss: 48.857717841048725\n",
            "test accuracy: 0.6835916622127205, test_loss: 173.17070242762566\n",
            "total_loss: 34.977137259771894\n",
            "test accuracy: 0.7183324425440941, test_loss: 182.8070441186428\n",
            "total_loss: 42.17477009215625\n",
            "test accuracy: 0.6787814003206841, test_loss: 156.7620723694563\n",
            "total_loss: 47.126299343357914\n",
            "test accuracy: 0.7028327097808659, test_loss: 248.5514266192913\n",
            "total_loss: 62.67930879069331\n",
            "test accuracy: 0.8241582041688936, test_loss: 76.62251862511039\n",
            "time: 788.3104846709994\n",
            "Accuracies [0.6835916622127205, 0.7183324425440941, 0.6787814003206841, 0.7028327097808659, 0.8241582041688936]\n"
          ],
          "name": "stdout"
        }
      ]
    },
    {
      "cell_type": "code",
      "metadata": {
        "id": "x7SI1NDeSndP",
        "colab_type": "code",
        "colab": {
          "base_uri": "https://localhost:8080/",
          "height": 54
        },
        "outputId": "1b4dc507-e637-4f61-87bb-a94740ed69ac"
      },
      "source": [
        "print(bert_story_vector_accuracy_sets)"
      ],
      "execution_count": null,
      "outputs": [
        {
          "output_type": "stream",
          "text": [
            "[[0.7765900587920898, 0.8311063602351684, 0.8450026723677178, 0.8439337252805986, 0.848743987172635], [0.809192944949225, 0.826296098343132, 0.8359166221272047, 0.8428647781934794, 0.8375200427578835], [0.8450026723677178, 0.8503474078033137, 0.8722608230892571, 0.8642437199358631, 0.8663816141101015], [0.8450026723677178, 0.8503474078033137, 0.8722608230892571, 0.8642437199358631, 0.8663816141101015]]\n"
          ],
          "name": "stdout"
        }
      ]
    },
    {
      "cell_type": "markdown",
      "metadata": {
        "id": "au1Re84aHK14",
        "colab_type": "text"
      },
      "source": [
        "RUN THE FOLLOWING IF YOU WANT TO SAVE THE DATA FROM THE EXECUTION"
      ]
    },
    {
      "cell_type": "code",
      "metadata": {
        "id": "ILH2KzVYeZyS",
        "colab_type": "code",
        "colab": {}
      },
      "source": [
        "import pickle\n",
        "data_frame = {\"sizes\":sizes,\n",
        "              \"bert_story_vector_accuracy_sets\":bert_story_vector_accuracy_sets,\n",
        "              \"gensim_story_vector_accuracy_sets\":gensim_story_vector_accuracy_sets,\n",
        "              \"random_accuracy_sets\":random_accuracy_sets\n",
        "              }\n",
        "with open(\"drive/My Drive/CS 680 Project/results.pkl\",'wb') as f:\n",
        "  pickle.dump(data_frame,f)\n",
        "\n",
        "\n"
      ],
      "execution_count": null,
      "outputs": []
    },
    {
      "cell_type": "code",
      "metadata": {
        "id": "aBi2rknigN25",
        "colab_type": "code",
        "colab": {
          "base_uri": "https://localhost:8080/",
          "height": 54
        },
        "outputId": "fb22b8bd-c0c3-4d58-9192-bcc04b40eaaa"
      },
      "source": [
        "import pickle\n",
        "\n",
        "with open(\"drive/My Drive/CS 680 Project/results.pkl\",'rb') as f:\n",
        "  data_from_pickle = pickle.load(f)\n",
        "print(data_from_pickle)\n",
        "sizes = data_from_pickle[\"sizes\"]\n",
        "bert_story_vector_accuracy_sets = data_from_pickle[\"bert_story_vector_accuracy_sets\"]\n",
        "gensim_story_vector_accuracy_sets = data_from_pickle[\"gensim_story_vector_accuracy_sets\"]\n",
        "random_accuracy_sets = data_from_pickle[\"random_accuracy_sets\"]"
      ],
      "execution_count": null,
      "outputs": [
        {
          "output_type": "stream",
          "text": [
            "{'sizes': [183, 367, 917, 1468, 2202, 2936], 'bert_story_vector_accuracy_sets': [[0.635489043292357, 0.669695350080171, 0.6884019241047569, 0.7124532335649385, 0.721004810261892], [0.721004810261892, 0.7883484767504009, 0.7846071619454837, 0.8049171566007483, 0.8049171566007483], [0.7771245323356494, 0.8209513629075361, 0.8423303046499199, 0.8140032068412614, 0.840726884019241], [0.760555852485302, 0.7306253340459647, 0.7226082308925709, 0.8113308391234634, 0.8327097808658471], [0.7739176910742919, 0.7108498129342598, 0.726349545697488, 0.7985034740780331, 0.840726884019241], [0.7739176910742919, 0.7108498129342598, 0.726349545697488, 0.7985034740780331, 0.840726884019241]], 'gensim_story_vector_accuracy_sets': [[0.5964724746125066, 0.5793693212185996, 0.6050240513094601, 0.5718866916087654, 0.5836451095670764], [0.5921966862640299, 0.5873864243719936, 0.5911277391769107, 0.6098343132014965, 0.6312132549438803], [0.7183324425440941, 0.7616247995724211, 0.7653661143773384, 0.7520042757883485, 0.7781934794227686], [0.7482629609834314, 0.806520577231427, 0.8011758417958311, 0.8225547835382149, 0.8311063602351684], [0.7487974345269909, 0.7958311063602351, 0.8385889898450026, 0.7691074291822555, 0.8284339925173704], [0.7824692677712454, 0.8241582041688936, 0.8450026723677178, 0.8156066274719401, 0.8546231961517905]], 'random_accuracy_sets': [[0.6199893105291288, 0.6643506146445751, 0.6675574559059326, 0.6782469267771245, 0.6889363976483164], [0.6990913949759487, 0.7423837520042758, 0.755211117049706, 0.760555852485302, 0.7765900587920898], [0.7471940138963121, 0.7642971672902191, 0.7819347942276857, 0.7685729556386959, 0.8166755745590594], [0.7060395510422234, 0.6648850881881346, 0.6659540352752539, 0.6595403527525387, 0.721004810261892], [0.7926242650988776, 0.7076429716729022, 0.7728487439871726, 0.814537680384821, 0.7985034740780331], [0.6835916622127205, 0.7183324425440941, 0.6787814003206841, 0.7028327097808659, 0.8241582041688936]]}\n"
          ],
          "name": "stdout"
        }
      ]
    },
    {
      "cell_type": "code",
      "metadata": {
        "id": "au20_XaRBh0f",
        "colab_type": "code",
        "colab": {
          "base_uri": "https://localhost:8080/",
          "height": 258
        },
        "outputId": "47641665-3306-495d-ca5e-f911104a898b"
      },
      "source": [
        "print(bert_story_vector_accuracy_sets)\n",
        "percents = [5,10,25,40,60,80]\n",
        "for i in range(len(bert_story_vector_accuracy_sets)):\n",
        "\n",
        "  formated = \"{:.1f} & {:.2f} & {:.2f} & {:.2f} \\\\\\\\\".format(percents[i],bert_story_vector_accuracy_sets[i][4]*100,gensim_story_vector_accuracy_sets[i][4]*100,random_accuracy_sets[i][4]*100)\n",
        "  print(formated)\n",
        "  print(\"\\\\hline\")\n",
        "  \"\"\"\n",
        "  print(bert_story_vector_accuracy_sets[i][4],\"&\",gensim_story_vector_accuracy_sets[i][4],)\n",
        "  print(\"bert\",bert_story_vector_accuracy_sets[i][4])\n",
        "  print(\"gensim\",gensim_story_vector_accuracy_sets[i][4])\n",
        "  print(\"random\",random_accuracy_sets[i][4])\n",
        "  \"\"\"\n"
      ],
      "execution_count": null,
      "outputs": [
        {
          "output_type": "stream",
          "text": [
            "[[0.635489043292357, 0.669695350080171, 0.6884019241047569, 0.7124532335649385, 0.721004810261892], [0.721004810261892, 0.7883484767504009, 0.7846071619454837, 0.8049171566007483, 0.8049171566007483], [0.7771245323356494, 0.8209513629075361, 0.8423303046499199, 0.8140032068412614, 0.840726884019241], [0.760555852485302, 0.7306253340459647, 0.7226082308925709, 0.8113308391234634, 0.8327097808658471], [0.7739176910742919, 0.7108498129342598, 0.726349545697488, 0.7985034740780331, 0.840726884019241], [0.7739176910742919, 0.7108498129342598, 0.726349545697488, 0.7985034740780331, 0.840726884019241]]\n",
            "5.0 & 72.10 & 58.36 & 68.89 \\\\\n",
            "\\hline\n",
            "10.0 & 80.49 & 63.12 & 77.66 \\\\\n",
            "\\hline\n",
            "25.0 & 84.07 & 77.82 & 81.67 \\\\\n",
            "\\hline\n",
            "40.0 & 83.27 & 83.11 & 72.10 \\\\\n",
            "\\hline\n",
            "60.0 & 84.07 & 82.84 & 79.85 \\\\\n",
            "\\hline\n",
            "80.0 & 84.07 & 85.46 & 82.42 \\\\\n",
            "\\hline\n"
          ],
          "name": "stdout"
        }
      ]
    },
    {
      "cell_type": "markdown",
      "metadata": {
        "id": "DSisbNqn0YjW",
        "colab_type": "text"
      },
      "source": [
        "Tuning L\n"
      ]
    },
    {
      "cell_type": "code",
      "metadata": {
        "id": "7A4zLig50XuR",
        "colab_type": "code",
        "colab": {}
      },
      "source": [
        "size = 500\n",
        "\n",
        "ls = [0.2*i for i in range(5)]\n",
        "\n",
        "bert_accuracies_l = []\n",
        "gensim_accuracies_l = []\n",
        "\n",
        "for l in ls:\n",
        "  bert_accuracy,_ = train_model_vectors(bert_story_vectors,size,file_path_val,l)\n",
        "  bert_accuracies_l.append(bert_accuracy)\n",
        "\n",
        "  gensim_accuracy,_ = train_model_vectors(gensim_vectors,size,file_path_val,l)\n",
        "  gensim_accuracies_l.append(gensim_accuracy)\n",
        "\n",
        "\n",
        "  "
      ],
      "execution_count": null,
      "outputs": []
    },
    {
      "cell_type": "code",
      "metadata": {
        "id": "eNsKwGVwWQA-",
        "colab_type": "code",
        "colab": {}
      },
      "source": [
        "!nvidia-smi"
      ],
      "execution_count": null,
      "outputs": []
    },
    {
      "cell_type": "code",
      "metadata": {
        "id": "biHonHgRpRWH",
        "colab_type": "code",
        "colab": {
          "base_uri": "https://localhost:8080/",
          "height": 1000
        },
        "outputId": "ace51fea-4601-4601-d9c9-d2b994b29a3c"
      },
      "source": [
        "import matplotlib.pyplot as plt\n",
        "for i,size in enumerate(sizes):\n",
        "  plt.figure()\n",
        "  plt.scatter([1,2,3,4,5],bert_story_vector_accuracy_sets[i])\n",
        "  plt.scatter([1,2,3,4,5],gensim_story_vector_accuracy_sets[i])\n",
        "  plt.scatter([1,2,3,4,5],random_accuracy_sets[i])\n",
        "  plt.xlabel(\"epochs\")\n",
        "  plt.ylabel(\"accuracy\")\n",
        "  plt.title(\"# of elements selected \"+str(size))\n",
        "  plt.legend([\"Elements Selected using Bert Embeddings\",'Elements Selected using Gensim Embeddings',\"Elements Selected Randomly\"])\n",
        "  plt.savefig(\"drive/My Drive/CS 680 Project/number of elements selected \"+str(size))\n",
        "plt.show()"
      ],
      "execution_count": null,
      "outputs": [
        {
          "output_type": "display_data",
          "data": {
            "image/png": "[encoded data removed]",
            "text/plain": [
              "<Figure size 432x288 with 1 Axes>"
            ]
          },
          "metadata": {
            "tags": [],
            "needs_background": "light"
          }
        },
        {
          "output_type": "display_data",
          "data": {
            "image/png": "[encoded data removed]",
            "text/plain": [
              "<Figure size 432x288 with 1 Axes>"
            ]
          },
          "metadata": {
            "tags": [],
            "needs_background": "light"
          }
        },
        {
          "output_type": "display_data",
          "data": {
            "image/png": "[encoded data removed]",
            "text/plain": [
              "<Figure size 432x288 with 1 Axes>"
            ]
          },
          "metadata": {
            "tags": [],
            "needs_background": "light"
          }
        },
        {
          "output_type": "display_data",
          "data": {
            "image/png": "[encoded data removed]",
            "text/plain": [
              "<Figure size 432x288 with 1 Axes>"
            ]
          },
          "metadata": {
            "tags": [],
            "needs_background": "light"
          }
        },
        {
          "output_type": "display_data",
          "data": {
            "image/png": "[encoded data removed]",
            "text/plain": [
              "<Figure size 432x288 with 1 Axes>"
            ]
          },
          "metadata": {
            "tags": [],
            "needs_background": "light"
          }
        },
        {
          "output_type": "display_data",
          "data": {
            "image/png": "[encoded data removed]",
            "text/plain": [
              "<Figure size 432x288 with 1 Axes>"
            ]
          },
          "metadata": {
            "tags": [],
            "needs_background": "light"
          }
        }
      ]
    },
    {
      "cell_type": "code",
      "metadata": {
        "id": "O29Ep_kj1jbP",
        "colab_type": "code",
        "colab": {
          "base_uri": "https://localhost:8080/",
          "height": 496
        },
        "outputId": "3ca91080-5f89-497c-8ac8-fff07a3b3c22"
      },
      "source": [
        "import matplotlib.pyplot as plt\n",
        "plt.figure()\n",
        "titles = []\n",
        "\n",
        "plt.title(\"Training Results Using pre-trained Bert Embeddings\")\n",
        "for i, accuracies in enumerate(bert_story_vector_accuracy_sets):\n",
        "  plt.scatter(list(range(1,5+1)),accuracies)\n",
        "  titles.append(\"# points selected: \"+ str(sizes[i]))\n",
        "plt.legend(titles)\n",
        "plt.xlabel(\"epoch\")\n",
        "plt.ylabel(\"accuracy\")\n",
        "plt.figure()\n",
        "titles = []\n",
        "plt.title(\"Training Results Using Gensim Doc2Vec embeddings\")\n",
        "for i, accuracies in enumerate(gensim_story_vector_accuracy_sets):\n",
        "  plt.scatter(list(range(1,5+1)),accuracies)\n",
        "  titles.append(\"gensim # points selected: \"+ str(sizes[i]))\n",
        "plt.legend(titles)\n",
        "plt.xlabel(\"epoch\")\n",
        "plt.ylabel(\"accuracy\")\n",
        "plt.figure()\n",
        "titles = []\n",
        "plt.title(\"Training Results Using randomly Selected Vectors\")\n",
        "for i, accuracies in enumerate(random_accuracy_sets):\n",
        "  plt.scatter(list(range(1,5+1)),accuracies)\n",
        "  titles.append(\"random # points selected: \"+ str(sizes[i]))\n",
        "plt.xlabel(\"epoch\")\n",
        "plt.ylabel(\"accuracy\")\n",
        "plt.legend(titles)\n",
        "plt.show()"
      ],
      "execution_count": null,
      "outputs": [
        {
          "output_type": "error",
          "ename": "NameError",
          "evalue": "ignored",
          "traceback": [
            "\u001b[0;31m---------------------------------------------------------------------------\u001b[0m",
            "\u001b[0;31mNameError\u001b[0m                                 Traceback (most recent call last)",
            "\u001b[0;32m<ipython-input-1-9f070a7325c9>\u001b[0m in \u001b[0;36m<module>\u001b[0;34m()\u001b[0m\n\u001b[1;32m      3\u001b[0m \u001b[0mtitles\u001b[0m \u001b[0;34m=\u001b[0m \u001b[0;34m[\u001b[0m\u001b[0;34m]\u001b[0m\u001b[0;34m\u001b[0m\u001b[0;34m\u001b[0m\u001b[0m\n\u001b[1;32m      4\u001b[0m \u001b[0mplt\u001b[0m\u001b[0;34m.\u001b[0m\u001b[0mtitle\u001b[0m\u001b[0;34m(\u001b[0m\u001b[0;34m\"Training Results Using pre-trained Bert Embeddings\"\u001b[0m\u001b[0;34m)\u001b[0m\u001b[0;34m\u001b[0m\u001b[0;34m\u001b[0m\u001b[0m\n\u001b[0;32m----> 5\u001b[0;31m \u001b[0;32mfor\u001b[0m \u001b[0mi\u001b[0m\u001b[0;34m,\u001b[0m \u001b[0maccuracies\u001b[0m \u001b[0;32min\u001b[0m \u001b[0menumerate\u001b[0m\u001b[0;34m(\u001b[0m\u001b[0mbert_story_vector_accuracy_sets\u001b[0m\u001b[0;34m)\u001b[0m\u001b[0;34m:\u001b[0m\u001b[0;34m\u001b[0m\u001b[0;34m\u001b[0m\u001b[0m\n\u001b[0m\u001b[1;32m      6\u001b[0m   \u001b[0mplt\u001b[0m\u001b[0;34m.\u001b[0m\u001b[0mscatter\u001b[0m\u001b[0;34m(\u001b[0m\u001b[0mlist\u001b[0m\u001b[0;34m(\u001b[0m\u001b[0mrange\u001b[0m\u001b[0;34m(\u001b[0m\u001b[0;36m1\u001b[0m\u001b[0;34m,\u001b[0m\u001b[0;36m5\u001b[0m\u001b[0;34m+\u001b[0m\u001b[0;36m1\u001b[0m\u001b[0;34m)\u001b[0m\u001b[0;34m)\u001b[0m\u001b[0;34m,\u001b[0m\u001b[0maccuracies\u001b[0m\u001b[0;34m)\u001b[0m\u001b[0;34m\u001b[0m\u001b[0;34m\u001b[0m\u001b[0m\n\u001b[1;32m      7\u001b[0m   \u001b[0mtitles\u001b[0m\u001b[0;34m.\u001b[0m\u001b[0mappend\u001b[0m\u001b[0;34m(\u001b[0m\u001b[0;34m\"# points selected: \"\u001b[0m\u001b[0;34m+\u001b[0m \u001b[0mstr\u001b[0m\u001b[0;34m(\u001b[0m\u001b[0msizes\u001b[0m\u001b[0;34m[\u001b[0m\u001b[0mi\u001b[0m\u001b[0;34m]\u001b[0m\u001b[0;34m)\u001b[0m\u001b[0;34m)\u001b[0m\u001b[0;34m\u001b[0m\u001b[0;34m\u001b[0m\u001b[0m\n",
            "\u001b[0;31mNameError\u001b[0m: name 'bert_story_vector_accuracy_sets' is not defined"
          ]
        },
        {
          "output_type": "display_data",
          "data": {
            "image/png": "[encoded data removed]",
            "text/plain": [
              "<Figure size 432x288 with 1 Axes>"
            ]
          },
          "metadata": {
            "tags": [],
            "needs_background": "light"
          }
        }
      ]
    },
    {
      "cell_type": "code",
      "metadata": {
        "id": "cuJbu77FzShT",
        "colab_type": "code",
        "colab": {
          "base_uri": "https://localhost:8080/",
          "height": 513
        },
        "outputId": "8cd804cd-ff3f-468a-b1ef-0a394974c79f"
      },
      "source": [
        "import matplotlib.pyplot as plt\n",
        "\n",
        "plt.figure()\n",
        "titles = []\n",
        "\n",
        "for i, accuracies in enumerate(bert_accuracies_l):\n",
        "  plt.scatter(ls,accuracies)\n",
        "  titles.append(\"bert l = \"+ str(ls[i]))\n",
        "plt.legend(titles)\n",
        "plt.figure()\n",
        "\n",
        "\n",
        "for i, accuracies in enumerate(gensim_accuracies_l):\n",
        "  plt.scatter(ls,accuracies)\n",
        "  titles.append(\"gensim l = \"+ str(ls[i]))\n",
        "plt.legend(titles)\n",
        "\n",
        "plt.show()"
      ],
      "execution_count": null,
      "outputs": [
        {
          "output_type": "display_data",
          "data": {
            "image/png": "[encoded data removed]",
            "text/plain": [
              "<Figure size 432x288 with 1 Axes>"
            ]
          },
          "metadata": {
            "tags": [],
            "needs_background": "light"
          }
        },
        {
          "output_type": "display_data",
          "data": {
            "image/png": "[encoded data removed]",
            "text/plain": [
              "<Figure size 432x288 with 1 Axes>"
            ]
          },
          "metadata": {
            "tags": [],
            "needs_background": "light"
          }
        }
      ]
    },
    {
      "cell_type": "markdown",
      "metadata": {
        "id": "I7i9mSGKyYjY",
        "colab_type": "text"
      },
      "source": [
        "Important Remarks Not to Forget\n",
        "\n",
        "\n",
        "*   Using Basic Pooler is bad, must do average pool\n",
        "*   Faster Submodular optimizer is important\n",
        "*   need to keep V on GPU\n",
        "\n",
        "\n",
        "\n"
      ]
    },
    {
      "cell_type": "markdown",
      "metadata": {
        "id": "UK3971q0rLl2",
        "colab_type": "text"
      },
      "source": [
        "What do do next \n",
        "\n",
        "*   Generate Data With Dumplicate information ie replace names and some verbs maybe\n",
        "\n",
        "*   Inverse document summarization vector (SIF) or traditional embeddings\n",
        "\n",
        "\n",
        "\n",
        "\n",
        "\n",
        "\n",
        "\n"
      ]
    },
    {
      "cell_type": "markdown",
      "metadata": {
        "id": "YrJpMbiE0uch",
        "colab_type": "text"
      },
      "source": [
        "THINGS To record and use for research\n",
        "\n",
        "*   Accuracies given sizes of data\n",
        "*   plots for each size of data but compare 3 different stratagies on each plot\n",
        "*   training times given size of data\n",
        "*   turning of l\n",
        "\n",
        "\n",
        "\n",
        "\n"
      ]
    }
  ]
}